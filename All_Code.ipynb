{
 "cells": [
  {
   "cell_type": "markdown",
   "id": "f8e4622d-1ac2-474b-b6db-ff47bd9b780f",
   "metadata": {},
   "source": [
    "# COGS 118B Final Project (Group RILS): All Code #"
   ]
  },
  {
   "cell_type": "markdown",
   "id": "9c7b8184",
   "metadata": {},
   "source": [
    "## General Process \n",
    "(Written at like 1am so sorry if the writing isn't the best)\n",
    "\n",
    "### 1: Data cleaning\n",
    "Figure out how to get data from kaggle api\n",
    "\n",
    "import data from kaggle\n",
    "\n",
    "Drop irrelevant columns \n",
    "Split - seperated columns (genre, credits, etc) \n",
    "Drop NA/bad data \n",
    "\n",
    "\n",
    "### 2: PCA\n",
    "\n",
    "Create artificial weighting for Genre (and anything else we deem important)\n",
    "Find PCA post weighting\n",
    "Determine number of componenets to be using based on variance explained\n",
    "\n",
    "\n",
    "### 3: Clustering\n",
    "\n",
    "Based on PCA (or other DR method if it works better) iterate through a number of potential clusters to find elbow method\n",
    "Decide on best clustering arrangement\n",
    "Cluster based on that arrangement\n",
    "\n",
    "Everything above here we kinda did already we just need to fine tune it\n",
    "### 4: Evaluation\n",
    "\n",
    "Using sillhouette score get a rough estimate of how well the model is performing. If this looks really bad, go back to steps 2 & 3 to make changes before continuing. \n",
    "\n",
    "Create a pseudo rand index score: For each datapoint (or maybe for a subset of them if the computation is taking a while), get the movies from the recomendations column. Then check if those movies are in the same cluster in our clustering method. Get some metric of accuracy (could just be # recommended in cluster/total # recommended). Again, if this looks really bad, go back to steps 2 & 3 to make changes before continuing. \n",
    "\n",
    "\n",
    "### 5: Regression\n",
    "\n",
    "Recommender system steps:\n",
    "1. Take an input movie in\n",
    "2. Check if the input movie is in our dataset\n",
    "3. If it's in our dataset, find the cluster it's in from part 3, and subset the data to just that.\n",
    "4. Within this cluster, calculate the euclidean distance to every other movie.\n",
    "5. Create a regression (logistic or linear) to put out which movies are good based on euclidean distance, vote average, popularity, (anything else you think is important) which outputs/predicts the movies given by the recommendation column\n",
    "6. Train this regression (or fine tune it).\n",
    "\n",
    "\n",
    "### 6: Writeup\n",
    "\n",
    "That's kinda all there needs to be for code, unless we finish that and decide we want to build a GUI or add a bit to pull the poster images + tagline from earlier in the dataset.\n",
    "Writeup the submission part of it and we're done :)\n"
   ]
  },
  {
   "cell_type": "markdown",
   "id": "5f15c393",
   "metadata": {},
   "source": [
    "# 1) Data Cleaning #"
   ]
  },
  {
   "cell_type": "code",
   "execution_count": 2,
   "id": "e417cad6-2647-498b-8158-539074e122e5",
   "metadata": {},
   "outputs": [],
   "source": [
    "import pandas as pd\n",
    "import numpy as np"
   ]
  },
  {
   "cell_type": "markdown",
   "id": "8b15cbe1-94cc-4d90-a37c-40df6a1596da",
   "metadata": {},
   "source": [
    "## Load Data ##"
   ]
  },
  {
   "cell_type": "code",
   "execution_count": 3,
   "id": "66a37637-d8f6-480a-8353-dd42e79d73bf",
   "metadata": {
    "scrolled": true
   },
   "outputs": [
    {
     "data": {
      "text/plain": [
       "722480"
      ]
     },
     "execution_count": 3,
     "metadata": {},
     "output_type": "execute_result"
    }
   ],
   "source": [
    "df = pd.read_csv('movies.csv')\n",
    "df.head()\n",
    "df.shape[0]"
   ]
  },
  {
   "cell_type": "markdown",
   "id": "750239b2-525c-4057-858a-ca1f7692f8f9",
   "metadata": {},
   "source": [
    "## Drop Irrelevant Columns ##"
   ]
  },
  {
   "cell_type": "code",
   "execution_count": 4,
   "id": "208e21ee-e1c9-4cd1-aa20-f9c68cad2903",
   "metadata": {},
   "outputs": [
    {
     "data": {
      "text/html": [
       "<div>\n",
       "<style scoped>\n",
       "    .dataframe tbody tr th:only-of-type {\n",
       "        vertical-align: middle;\n",
       "    }\n",
       "\n",
       "    .dataframe tbody tr th {\n",
       "        vertical-align: top;\n",
       "    }\n",
       "\n",
       "    .dataframe thead th {\n",
       "        text-align: right;\n",
       "    }\n",
       "</style>\n",
       "<table border=\"1\" class=\"dataframe\">\n",
       "  <thead>\n",
       "    <tr style=\"text-align: right;\">\n",
       "      <th></th>\n",
       "      <th>id</th>\n",
       "      <th>title</th>\n",
       "      <th>genres</th>\n",
       "      <th>original_language</th>\n",
       "      <th>popularity</th>\n",
       "      <th>production_companies</th>\n",
       "      <th>release_date</th>\n",
       "      <th>budget</th>\n",
       "      <th>revenue</th>\n",
       "      <th>runtime</th>\n",
       "      <th>status</th>\n",
       "      <th>tagline</th>\n",
       "      <th>vote_average</th>\n",
       "      <th>vote_count</th>\n",
       "      <th>credits</th>\n",
       "      <th>recommendations</th>\n",
       "    </tr>\n",
       "  </thead>\n",
       "  <tbody>\n",
       "    <tr>\n",
       "      <th>0</th>\n",
       "      <td>615656</td>\n",
       "      <td>Meg 2: The Trench</td>\n",
       "      <td>Action-Science Fiction-Horror</td>\n",
       "      <td>en</td>\n",
       "      <td>8763.998</td>\n",
       "      <td>Apelles Entertainment-Warner Bros. Pictures-di...</td>\n",
       "      <td>2023-08-02</td>\n",
       "      <td>129000000.0</td>\n",
       "      <td>352056482.0</td>\n",
       "      <td>116.0</td>\n",
       "      <td>Released</td>\n",
       "      <td>Back for seconds.</td>\n",
       "      <td>7.079</td>\n",
       "      <td>1365.0</td>\n",
       "      <td>Jason Statham-Wu Jing-Shuya Sophia Cai-Sergio ...</td>\n",
       "      <td>1006462-298618-569094-1061181-346698-1076487-6...</td>\n",
       "    </tr>\n",
       "    <tr>\n",
       "      <th>1</th>\n",
       "      <td>758323</td>\n",
       "      <td>The Pope's Exorcist</td>\n",
       "      <td>Horror-Mystery-Thriller</td>\n",
       "      <td>en</td>\n",
       "      <td>5953.227</td>\n",
       "      <td>Screen Gems-2.0 Entertainment-Jesus &amp; Mary-Wor...</td>\n",
       "      <td>2023-04-05</td>\n",
       "      <td>18000000.0</td>\n",
       "      <td>65675816.0</td>\n",
       "      <td>103.0</td>\n",
       "      <td>Released</td>\n",
       "      <td>Inspired by the actual files of Father Gabriel...</td>\n",
       "      <td>7.433</td>\n",
       "      <td>545.0</td>\n",
       "      <td>Russell Crowe-Daniel Zovatto-Alex Essoe-Franco...</td>\n",
       "      <td>713704-296271-502356-1076605-1084225-1008005-9...</td>\n",
       "    </tr>\n",
       "    <tr>\n",
       "      <th>2</th>\n",
       "      <td>667538</td>\n",
       "      <td>Transformers: Rise of the Beasts</td>\n",
       "      <td>Action-Adventure-Science Fiction</td>\n",
       "      <td>en</td>\n",
       "      <td>5409.104</td>\n",
       "      <td>Skydance-Paramount-di Bonaventura Pictures-Bay...</td>\n",
       "      <td>2023-06-06</td>\n",
       "      <td>200000000.0</td>\n",
       "      <td>407045464.0</td>\n",
       "      <td>127.0</td>\n",
       "      <td>Released</td>\n",
       "      <td>Unite or fall.</td>\n",
       "      <td>7.340</td>\n",
       "      <td>1007.0</td>\n",
       "      <td>Anthony Ramos-Dominique Fishback-Luna Lauren V...</td>\n",
       "      <td>496450-569094-298618-385687-877100-598331-4628...</td>\n",
       "    </tr>\n",
       "    <tr>\n",
       "      <th>3</th>\n",
       "      <td>640146</td>\n",
       "      <td>Ant-Man and the Wasp: Quantumania</td>\n",
       "      <td>Action-Adventure-Science Fiction</td>\n",
       "      <td>en</td>\n",
       "      <td>4425.387</td>\n",
       "      <td>Marvel Studios-Kevin Feige Productions</td>\n",
       "      <td>2023-02-15</td>\n",
       "      <td>200000000.0</td>\n",
       "      <td>475766228.0</td>\n",
       "      <td>125.0</td>\n",
       "      <td>Released</td>\n",
       "      <td>Witness the beginning of a new dynasty.</td>\n",
       "      <td>6.507</td>\n",
       "      <td>2811.0</td>\n",
       "      <td>Paul Rudd-Evangeline Lilly-Jonathan Majors-Kat...</td>\n",
       "      <td>823999-676841-868759-734048-267805-965839-1033...</td>\n",
       "    </tr>\n",
       "    <tr>\n",
       "      <th>4</th>\n",
       "      <td>677179</td>\n",
       "      <td>Creed III</td>\n",
       "      <td>Drama-Action</td>\n",
       "      <td>en</td>\n",
       "      <td>3994.342</td>\n",
       "      <td>Metro-Goldwyn-Mayer-Proximity Media-Balboa Pro...</td>\n",
       "      <td>2023-03-01</td>\n",
       "      <td>75000000.0</td>\n",
       "      <td>269000000.0</td>\n",
       "      <td>116.0</td>\n",
       "      <td>Released</td>\n",
       "      <td>You can't run from your past.</td>\n",
       "      <td>7.262</td>\n",
       "      <td>1129.0</td>\n",
       "      <td>Michael B. Jordan-Tessa Thompson-Jonathan Majo...</td>\n",
       "      <td>965839-267805-943822-842942-1035806-823999-107...</td>\n",
       "    </tr>\n",
       "  </tbody>\n",
       "</table>\n",
       "</div>"
      ],
      "text/plain": [
       "       id                              title  \\\n",
       "0  615656                  Meg 2: The Trench   \n",
       "1  758323                The Pope's Exorcist   \n",
       "2  667538   Transformers: Rise of the Beasts   \n",
       "3  640146  Ant-Man and the Wasp: Quantumania   \n",
       "4  677179                          Creed III   \n",
       "\n",
       "                             genres original_language  popularity  \\\n",
       "0     Action-Science Fiction-Horror                en    8763.998   \n",
       "1           Horror-Mystery-Thriller                en    5953.227   \n",
       "2  Action-Adventure-Science Fiction                en    5409.104   \n",
       "3  Action-Adventure-Science Fiction                en    4425.387   \n",
       "4                      Drama-Action                en    3994.342   \n",
       "\n",
       "                                production_companies release_date  \\\n",
       "0  Apelles Entertainment-Warner Bros. Pictures-di...   2023-08-02   \n",
       "1  Screen Gems-2.0 Entertainment-Jesus & Mary-Wor...   2023-04-05   \n",
       "2  Skydance-Paramount-di Bonaventura Pictures-Bay...   2023-06-06   \n",
       "3             Marvel Studios-Kevin Feige Productions   2023-02-15   \n",
       "4  Metro-Goldwyn-Mayer-Proximity Media-Balboa Pro...   2023-03-01   \n",
       "\n",
       "        budget      revenue  runtime    status  \\\n",
       "0  129000000.0  352056482.0    116.0  Released   \n",
       "1   18000000.0   65675816.0    103.0  Released   \n",
       "2  200000000.0  407045464.0    127.0  Released   \n",
       "3  200000000.0  475766228.0    125.0  Released   \n",
       "4   75000000.0  269000000.0    116.0  Released   \n",
       "\n",
       "                                             tagline  vote_average  \\\n",
       "0                                  Back for seconds.         7.079   \n",
       "1  Inspired by the actual files of Father Gabriel...         7.433   \n",
       "2                                     Unite or fall.         7.340   \n",
       "3            Witness the beginning of a new dynasty.         6.507   \n",
       "4                      You can't run from your past.         7.262   \n",
       "\n",
       "   vote_count                                            credits  \\\n",
       "0      1365.0  Jason Statham-Wu Jing-Shuya Sophia Cai-Sergio ...   \n",
       "1       545.0  Russell Crowe-Daniel Zovatto-Alex Essoe-Franco...   \n",
       "2      1007.0  Anthony Ramos-Dominique Fishback-Luna Lauren V...   \n",
       "3      2811.0  Paul Rudd-Evangeline Lilly-Jonathan Majors-Kat...   \n",
       "4      1129.0  Michael B. Jordan-Tessa Thompson-Jonathan Majo...   \n",
       "\n",
       "                                     recommendations  \n",
       "0  1006462-298618-569094-1061181-346698-1076487-6...  \n",
       "1  713704-296271-502356-1076605-1084225-1008005-9...  \n",
       "2  496450-569094-298618-385687-877100-598331-4628...  \n",
       "3  823999-676841-868759-734048-267805-965839-1033...  \n",
       "4  965839-267805-943822-842942-1035806-823999-107...  "
      ]
     },
     "execution_count": 4,
     "metadata": {},
     "output_type": "execute_result"
    }
   ],
   "source": [
    "#not sure what else we want to drop \n",
    "columns_to_remove = ['overview', 'keywords', 'poster_path', 'backdrop_path']\n",
    "df = df.drop(columns = columns_to_remove)\n",
    "df.head()"
   ]
  },
  {
   "cell_type": "markdown",
   "id": "be307008-037d-40c2-bcd3-ca26f1f65c2d",
   "metadata": {},
   "source": [
    "## Drop Duplicates ##"
   ]
  },
  {
   "cell_type": "code",
   "execution_count": 5,
   "id": "3fe883a7-9df5-46b3-a5ab-c3d10c0419ce",
   "metadata": {},
   "outputs": [
    {
     "data": {
      "text/plain": [
       "722462"
      ]
     },
     "execution_count": 5,
     "metadata": {},
     "output_type": "execute_result"
    }
   ],
   "source": [
    "df_no_duplicates = df.drop_duplicates()\n",
    "df_no_duplicates.shape[0]"
   ]
  },
  {
   "cell_type": "markdown",
   "id": "3c8f6029-182e-48d3-8fb2-a573bdefc3ea",
   "metadata": {},
   "source": [
    "## Drop Na Values ##"
   ]
  },
  {
   "cell_type": "code",
   "execution_count": 7,
   "id": "335b6886-3e1f-45bc-86bb-f819851354d6",
   "metadata": {},
   "outputs": [
    {
     "data": {
      "text/plain": [
       "34894"
      ]
     },
     "execution_count": 7,
     "metadata": {},
     "output_type": "execute_result"
    }
   ],
   "source": [
    "df_cleaned = df_no_duplicates.dropna(subset=['recommendations'])\n",
    "df_cleaned.head()\n",
    "df_cleaned.shape[0]\n",
    "\n",
    "#this might be an issue but i figured data without recommendations wouldnt be needed?\n",
    "#when i drop all Na values, the number drops to 14,000ish, might need new dataset"
   ]
  },
  {
   "cell_type": "markdown",
   "id": "e675af89",
   "metadata": {},
   "source": [
    "## One Hot Encoding for Production Companies, Credits, and Genre ##"
   ]
  },
  {
   "cell_type": "code",
   "execution_count": 8,
   "id": "20e8c2ae",
   "metadata": {},
   "outputs": [],
   "source": [
    "from collections import Counter"
   ]
  },
  {
   "cell_type": "code",
   "execution_count": 9,
   "id": "4a317957",
   "metadata": {},
   "outputs": [
    {
     "name": "stdout",
     "output_type": "stream",
     "text": [
      "Unique Companies: ['Warner Bros. Pictures', 'Paramount', 'Metro', 'Goldwyn', 'Mayer', 'Universal Pictures', 'Columbia Pictures', 'Toei Company', 'ARTE', 'ZDF', 'Film', 'ONF | NFB', 'BBC']\n",
      "Number of Unique Companies: 13\n",
      "Unique Credits: ['Frank Welker', 'Eric Roberts', 'Mark Calaway', 'Mel Blanc', 'Paul Michael Lévesque', 'Bess Flowers', 'Allen Jones', 'Nedumudi Venu', 'KPAC Lalitha', 'Jagathy Sreekumar']\n",
      "Number of Unique Credits: 10\n"
     ]
    }
   ],
   "source": [
    "df_copy = df.copy()\n",
    "\n",
    "# Handling missing values by replacing NaNs with an empty string\n",
    "df_copy['production_companies'] = df_copy['production_companies'].fillna('')\n",
    "df_copy['credits'] = df_copy['credits'].fillna('')\n",
    "\n",
    "# Splitting the production companies by '-' and flattening the list\n",
    "all_companies = [company for sublist in df_copy['production_companies'].apply(lambda x: str(x).split('-')) for company in sublist]\n",
    "\n",
    "# Filter companies occurring at least 1750 times and are not empty\n",
    "company_counts = Counter(all_companies)\n",
    "unique_companies = [company for company, count in company_counts.items() if count >= 1750 and company != '']\n",
    "\n",
    "print(\"Unique Companies:\", unique_companies)\n",
    "print(\"Number of Unique Companies:\", len(unique_companies))\n",
    "\n",
    "# Company One Hot Encoding\n",
    "company_data = {}\n",
    "for company in unique_companies:\n",
    "    company_data[company] = df_copy['production_companies'].apply(lambda x: 1 if company in x else 0)\n",
    "\n",
    "# Splitting the credits by '-' and flattening the list\n",
    "all_credits = [credit for sublist in df_copy['credits'].apply(lambda x: str(x).split('-')) for credit in sublist]\n",
    "\n",
    "# Filter credits occurring at least 400 and are full names (at least 2 names)\n",
    "credit_counts = Counter(all_credits)\n",
    "unique_credits = [credit for credit, count in credit_counts.items() if count >= 400 and len(credit.split()) >= 2]\n",
    "\n",
    "print(\"Unique Credits:\", unique_credits)\n",
    "print(\"Number of Unique Credits:\", len(unique_credits))\n",
    "\n",
    "# Credits One Hot Encoding\n",
    "credit_data = {}\n",
    "for credit in unique_credits:\n",
    "    credit_data[credit] = df_copy['credits'].apply(lambda x: 1 if credit in x else 0)\n",
    "\n",
    "credit_df = pd.DataFrame(credit_data)\n",
    "df_copy = pd.concat([df_copy, credit_df], axis=1)\n",
    "company_df = pd.DataFrame(company_data)\n",
    "df_copy = pd.concat([df_copy, company_df], axis=1)"
   ]
  },
  {
   "cell_type": "code",
   "execution_count": 10,
   "id": "84d676ba",
   "metadata": {},
   "outputs": [
    {
     "name": "stdout",
     "output_type": "stream",
     "text": [
      "Index(['id', 'title', 'original_language', 'popularity', 'release_date',\n",
      "       'budget', 'revenue', 'runtime', 'status', 'tagline', 'vote_average',\n",
      "       'vote_count', 'Frank Welker', 'Eric Roberts', 'Mark Calaway',\n",
      "       'Mel Blanc', 'Paul Michael Lévesque', 'Bess Flowers', 'Allen Jones',\n",
      "       'Nedumudi Venu', 'KPAC Lalitha', 'Jagathy Sreekumar',\n",
      "       'Warner Bros. Pictures', 'Paramount', 'Metro', 'Goldwyn', 'Mayer',\n",
      "       'Universal Pictures', 'Columbia Pictures', 'Toei Company', 'ARTE',\n",
      "       'ZDF', 'Film', 'ONF | NFB', 'BBC', 'Action', 'Adventure', 'Animation',\n",
      "       'Comedy', 'Crime', 'Documentary', 'Drama', 'Family', 'Fantasy',\n",
      "       'History', 'Horror', 'Music', 'Mystery', 'Romance', 'Science Fiction',\n",
      "       'TV Movie', 'Thriller', 'War', 'Western', 'recommendation_1',\n",
      "       'recommendation_2', 'recommendation_3', 'recommendation_4',\n",
      "       'recommendation_5'],\n",
      "      dtype='object')\n"
     ]
    }
   ],
   "source": [
    "# Split the 'recommendations' column by '-' and expand the result into separate columns\n",
    "recommendations_split = df_copy['recommendations'].str.split('-', expand=True)\n",
    "\n",
    "# Truncate recommendations_split to include only the first five split columns\n",
    "recommendations_split = recommendations_split.iloc[:, :5]\n",
    "\n",
    "# Assign new column names to the truncated columns\n",
    "recommendations_split.columns = ['recommendation_1', 'recommendation_2', 'recommendation_3', 'recommendation_4', 'recommendation_5']\n",
    "\n",
    "# One Hot Encoding for genres\n",
    "genres_split = df_copy['genres'].str.get_dummies(sep='-')\n",
    "\n",
    "# Adding everything together and removing all the old columns\n",
    "df_copy = pd.concat([df_copy, genres_split, recommendations_split], axis=1)\n",
    "df_copy = df_copy.drop(columns=['genres', 'recommendations', 'production_companies', 'credits'])\n",
    "\n",
    "print(df_copy.columns)"
   ]
  },
  {
   "cell_type": "code",
   "execution_count": 11,
   "id": "8063f5ea",
   "metadata": {},
   "outputs": [
    {
     "name": "stdout",
     "output_type": "stream",
     "text": [
      "Index(['id', 'title', 'popularity', 'budget', 'revenue', 'runtime', 'status',\n",
      "       'tagline', 'vote_average', 'vote_count', 'Frank Welker', 'Eric Roberts',\n",
      "       'Mark Calaway', 'Mel Blanc', 'Paul Michael Lévesque', 'Bess Flowers',\n",
      "       'Allen Jones', 'Nedumudi Venu', 'KPAC Lalitha', 'Jagathy Sreekumar',\n",
      "       'Warner Bros. Pictures', 'Paramount', 'Metro', 'Goldwyn', 'Mayer',\n",
      "       'Universal Pictures', 'Columbia Pictures', 'Toei Company', 'ARTE',\n",
      "       'ZDF', 'Film', 'ONF | NFB', 'BBC', 'Action', 'Adventure', 'Animation',\n",
      "       'Comedy', 'Crime', 'Documentary', 'Drama', 'Family', 'Fantasy',\n",
      "       'History', 'Horror', 'Music', 'Mystery', 'Romance', 'Science Fiction',\n",
      "       'TV Movie', 'Thriller', 'War', 'Western', 'recommendation_1',\n",
      "       'recommendation_2', 'recommendation_3', 'recommendation_4',\n",
      "       'recommendation_5', 'is_english', 'release_year'],\n",
      "      dtype='object')\n"
     ]
    }
   ],
   "source": [
    "df_copy['is_english'] = 0\n",
    "df_copy.loc[df_copy['original_language'] == 'en', 'is_english'] = 1\n",
    "\n",
    "df_copy.drop('original_language', axis=1, inplace=True)\n",
    "\n",
    "df_copy['release_date'] = pd.to_datetime(df_copy['release_date'])\n",
    "df_copy['release_year'] = df_copy['release_date'].dt.year\n",
    "\n",
    "df_copy.drop('release_date', axis=1, inplace=True)\n",
    "\n",
    "print(df_copy.columns)"
   ]
  },
  {
   "cell_type": "code",
   "execution_count": 12,
   "id": "53763ada",
   "metadata": {},
   "outputs": [
    {
     "name": "stdout",
     "output_type": "stream",
     "text": [
      "0         2023.0\n",
      "1         2023.0\n",
      "2         2023.0\n",
      "3         2023.0\n",
      "4         2023.0\n",
      "           ...  \n",
      "722475    2013.0\n",
      "722476    2016.0\n",
      "722477    1973.0\n",
      "722478    1970.0\n",
      "722479       NaN\n",
      "Name: release_year, Length: 722480, dtype: float64\n"
     ]
    }
   ],
   "source": [
    "print(df_copy['release_year'])"
   ]
  },
  {
   "cell_type": "markdown",
   "id": "f22dc152",
   "metadata": {},
   "source": [
    "## Making New Dfs for Clustering & Regression ##"
   ]
  },
  {
   "cell_type": "code",
   "execution_count": 13,
   "id": "c4c98714",
   "metadata": {},
   "outputs": [
    {
     "name": "stdout",
     "output_type": "stream",
     "text": [
      "Index(['id', 'title', 'revenue', 'runtime', 'Frank Welker', 'Eric Roberts',\n",
      "       'Mark Calaway', 'Mel Blanc', 'Paul Michael Lévesque', 'Bess Flowers',\n",
      "       'Allen Jones', 'Nedumudi Venu', 'KPAC Lalitha', 'Jagathy Sreekumar',\n",
      "       'Warner Bros. Pictures', 'Paramount', 'Metro', 'Goldwyn', 'Mayer',\n",
      "       'Universal Pictures', 'Columbia Pictures', 'Toei Company', 'ARTE',\n",
      "       'ZDF', 'Film', 'ONF | NFB', 'BBC', 'Action', 'Adventure', 'Animation',\n",
      "       'Comedy', 'Crime', 'Documentary', 'Drama', 'Family', 'Fantasy',\n",
      "       'History', 'Horror', 'Music', 'Mystery', 'Romance', 'Science Fiction',\n",
      "       'TV Movie', 'Thriller', 'War', 'Western', 'recommendation_1',\n",
      "       'recommendation_2', 'recommendation_3', 'recommendation_4',\n",
      "       'recommendation_5', 'is_english', 'release_year'],\n",
      "      dtype='object')\n",
      "Number of Total Variables: 53\n",
      "Number of Unique Credits: 10\n",
      "Number of Unique Companies: 13\n",
      "Number of Unique Genres: 19\n",
      "Number of Other Variables: 4\n"
     ]
    },
    {
     "data": {
      "text/html": [
       "<div>\n",
       "<style scoped>\n",
       "    .dataframe tbody tr th:only-of-type {\n",
       "        vertical-align: middle;\n",
       "    }\n",
       "\n",
       "    .dataframe tbody tr th {\n",
       "        vertical-align: top;\n",
       "    }\n",
       "\n",
       "    .dataframe thead th {\n",
       "        text-align: right;\n",
       "    }\n",
       "</style>\n",
       "<table border=\"1\" class=\"dataframe\">\n",
       "  <thead>\n",
       "    <tr style=\"text-align: right;\">\n",
       "      <th></th>\n",
       "      <th>id</th>\n",
       "      <th>title</th>\n",
       "      <th>revenue</th>\n",
       "      <th>runtime</th>\n",
       "      <th>Frank Welker</th>\n",
       "      <th>Eric Roberts</th>\n",
       "      <th>Mark Calaway</th>\n",
       "      <th>Mel Blanc</th>\n",
       "      <th>Paul Michael Lévesque</th>\n",
       "      <th>Bess Flowers</th>\n",
       "      <th>...</th>\n",
       "      <th>Thriller</th>\n",
       "      <th>War</th>\n",
       "      <th>Western</th>\n",
       "      <th>recommendation_1</th>\n",
       "      <th>recommendation_2</th>\n",
       "      <th>recommendation_3</th>\n",
       "      <th>recommendation_4</th>\n",
       "      <th>recommendation_5</th>\n",
       "      <th>is_english</th>\n",
       "      <th>release_year</th>\n",
       "    </tr>\n",
       "  </thead>\n",
       "  <tbody>\n",
       "    <tr>\n",
       "      <th>0</th>\n",
       "      <td>615656</td>\n",
       "      <td>Meg 2: The Trench</td>\n",
       "      <td>352056482.0</td>\n",
       "      <td>116.0</td>\n",
       "      <td>0</td>\n",
       "      <td>0</td>\n",
       "      <td>0</td>\n",
       "      <td>0</td>\n",
       "      <td>0</td>\n",
       "      <td>0</td>\n",
       "      <td>...</td>\n",
       "      <td>0</td>\n",
       "      <td>0</td>\n",
       "      <td>0</td>\n",
       "      <td>1006462</td>\n",
       "      <td>298618</td>\n",
       "      <td>569094</td>\n",
       "      <td>1061181</td>\n",
       "      <td>346698</td>\n",
       "      <td>1</td>\n",
       "      <td>2023.0</td>\n",
       "    </tr>\n",
       "    <tr>\n",
       "      <th>1</th>\n",
       "      <td>758323</td>\n",
       "      <td>The Pope's Exorcist</td>\n",
       "      <td>65675816.0</td>\n",
       "      <td>103.0</td>\n",
       "      <td>0</td>\n",
       "      <td>0</td>\n",
       "      <td>0</td>\n",
       "      <td>0</td>\n",
       "      <td>0</td>\n",
       "      <td>0</td>\n",
       "      <td>...</td>\n",
       "      <td>1</td>\n",
       "      <td>0</td>\n",
       "      <td>0</td>\n",
       "      <td>713704</td>\n",
       "      <td>296271</td>\n",
       "      <td>502356</td>\n",
       "      <td>1076605</td>\n",
       "      <td>1084225</td>\n",
       "      <td>1</td>\n",
       "      <td>2023.0</td>\n",
       "    </tr>\n",
       "    <tr>\n",
       "      <th>2</th>\n",
       "      <td>667538</td>\n",
       "      <td>Transformers: Rise of the Beasts</td>\n",
       "      <td>407045464.0</td>\n",
       "      <td>127.0</td>\n",
       "      <td>0</td>\n",
       "      <td>0</td>\n",
       "      <td>0</td>\n",
       "      <td>0</td>\n",
       "      <td>0</td>\n",
       "      <td>0</td>\n",
       "      <td>...</td>\n",
       "      <td>0</td>\n",
       "      <td>0</td>\n",
       "      <td>0</td>\n",
       "      <td>496450</td>\n",
       "      <td>569094</td>\n",
       "      <td>298618</td>\n",
       "      <td>385687</td>\n",
       "      <td>877100</td>\n",
       "      <td>1</td>\n",
       "      <td>2023.0</td>\n",
       "    </tr>\n",
       "    <tr>\n",
       "      <th>3</th>\n",
       "      <td>640146</td>\n",
       "      <td>Ant-Man and the Wasp: Quantumania</td>\n",
       "      <td>475766228.0</td>\n",
       "      <td>125.0</td>\n",
       "      <td>0</td>\n",
       "      <td>0</td>\n",
       "      <td>0</td>\n",
       "      <td>0</td>\n",
       "      <td>0</td>\n",
       "      <td>0</td>\n",
       "      <td>...</td>\n",
       "      <td>0</td>\n",
       "      <td>0</td>\n",
       "      <td>0</td>\n",
       "      <td>823999</td>\n",
       "      <td>676841</td>\n",
       "      <td>868759</td>\n",
       "      <td>734048</td>\n",
       "      <td>267805</td>\n",
       "      <td>1</td>\n",
       "      <td>2023.0</td>\n",
       "    </tr>\n",
       "    <tr>\n",
       "      <th>4</th>\n",
       "      <td>677179</td>\n",
       "      <td>Creed III</td>\n",
       "      <td>269000000.0</td>\n",
       "      <td>116.0</td>\n",
       "      <td>0</td>\n",
       "      <td>0</td>\n",
       "      <td>0</td>\n",
       "      <td>0</td>\n",
       "      <td>0</td>\n",
       "      <td>0</td>\n",
       "      <td>...</td>\n",
       "      <td>0</td>\n",
       "      <td>0</td>\n",
       "      <td>0</td>\n",
       "      <td>965839</td>\n",
       "      <td>267805</td>\n",
       "      <td>943822</td>\n",
       "      <td>842942</td>\n",
       "      <td>1035806</td>\n",
       "      <td>1</td>\n",
       "      <td>2023.0</td>\n",
       "    </tr>\n",
       "  </tbody>\n",
       "</table>\n",
       "<p>5 rows × 53 columns</p>\n",
       "</div>"
      ],
      "text/plain": [
       "       id                              title      revenue  runtime  \\\n",
       "0  615656                  Meg 2: The Trench  352056482.0    116.0   \n",
       "1  758323                The Pope's Exorcist   65675816.0    103.0   \n",
       "2  667538   Transformers: Rise of the Beasts  407045464.0    127.0   \n",
       "3  640146  Ant-Man and the Wasp: Quantumania  475766228.0    125.0   \n",
       "4  677179                          Creed III  269000000.0    116.0   \n",
       "\n",
       "   Frank Welker  Eric Roberts  Mark Calaway  Mel Blanc  Paul Michael Lévesque  \\\n",
       "0             0             0             0          0                      0   \n",
       "1             0             0             0          0                      0   \n",
       "2             0             0             0          0                      0   \n",
       "3             0             0             0          0                      0   \n",
       "4             0             0             0          0                      0   \n",
       "\n",
       "   Bess Flowers  ...  Thriller  War  Western  recommendation_1  \\\n",
       "0             0  ...         0    0        0           1006462   \n",
       "1             0  ...         1    0        0            713704   \n",
       "2             0  ...         0    0        0            496450   \n",
       "3             0  ...         0    0        0            823999   \n",
       "4             0  ...         0    0        0            965839   \n",
       "\n",
       "   recommendation_2  recommendation_3  recommendation_4  recommendation_5  \\\n",
       "0            298618            569094           1061181            346698   \n",
       "1            296271            502356           1076605           1084225   \n",
       "2            569094            298618            385687            877100   \n",
       "3            676841            868759            734048            267805   \n",
       "4            267805            943822            842942           1035806   \n",
       "\n",
       "   is_english  release_year  \n",
       "0           1        2023.0  \n",
       "1           1        2023.0  \n",
       "2           1        2023.0  \n",
       "3           1        2023.0  \n",
       "4           1        2023.0  \n",
       "\n",
       "[5 rows x 53 columns]"
      ]
     },
     "execution_count": 13,
     "metadata": {},
     "output_type": "execute_result"
    }
   ],
   "source": [
    "# Removing columns for clustering \n",
    "df_clustering = df_copy.drop(columns=['popularity', 'budget', 'status', 'tagline', 'vote_average', 'vote_count'])\n",
    "\n",
    "#Artificially inflate 'genre' by setting all one-hot encoded values to 2\n",
    "df_clustering['Action'] = df_clustering['Action'].replace(1,3)\n",
    "df_clustering['Adventure'] = df_clustering['Adventure'].replace(1,3)\n",
    "df_clustering['Animation'] = df_clustering['Animation'].replace(1,3)\n",
    "df_clustering['Comedy'] = df_clustering['Comedy'].replace(1,3)\n",
    "df_clustering['Crime'] = df_clustering['Crime'].replace(1,3)\n",
    "df_clustering['Documentary'] = df_clustering['Documentary'].replace(1,3)\n",
    "df_clustering['Drama'] = df_clustering['Drama'].replace(1,3)\n",
    "df_clustering['Family'] = df_clustering['Family'].replace(1,3)\n",
    "df_clustering['Fantasy'] = df_clustering['Fantasy'].replace(1,3)\n",
    "df_clustering['History'] = df_clustering['History'].replace(1,3)\n",
    "df_clustering['Horror'] = df_clustering['Horror'].replace(1,3)\n",
    "df_clustering['Music'] = df_clustering['Music'].replace(1,3)\n",
    "df_clustering['Mystery'] = df_clustering['Mystery'].replace(1,3)\n",
    "df_clustering['Romance'] = df_clustering['Romance'].replace(1,3)\n",
    "df_clustering['Science Fiction'] = df_clustering['Science Fiction'].replace(1,3)\n",
    "df_clustering['TV Movie'] = df_clustering['TV Movie'].replace(1,3)\n",
    "df_clustering['War'] = df_clustering['War'].replace(1,3)\n",
    "df_clustering['Western'] = df_clustering['Western'].replace(1,3)\n",
    "\n",
    "print(df_clustering.columns)\n",
    "print(\"Number of Total Variables:\", len(df_clustering.columns))\n",
    "print(\"Number of Unique Credits:\", len(unique_credits))\n",
    "print(\"Number of Unique Companies:\", len(unique_companies))\n",
    "print(\"Number of Unique Genres:\", len(genres_split.columns))\n",
    "print(\"Number of Other Variables:\", len(df_clustering.columns) - len(unique_credits) - len(unique_companies) - len(genres_split.columns) - 7)\n",
    "df_clustering.head()"
   ]
  },
  {
   "cell_type": "code",
   "execution_count": 14,
   "id": "6b9a8a79",
   "metadata": {},
   "outputs": [
    {
     "data": {
      "text/html": [
       "<div>\n",
       "<style scoped>\n",
       "    .dataframe tbody tr th:only-of-type {\n",
       "        vertical-align: middle;\n",
       "    }\n",
       "\n",
       "    .dataframe tbody tr th {\n",
       "        vertical-align: top;\n",
       "    }\n",
       "\n",
       "    .dataframe thead th {\n",
       "        text-align: right;\n",
       "    }\n",
       "</style>\n",
       "<table border=\"1\" class=\"dataframe\">\n",
       "  <thead>\n",
       "    <tr style=\"text-align: right;\">\n",
       "      <th></th>\n",
       "      <th>id</th>\n",
       "      <th>title</th>\n",
       "      <th>release_year</th>\n",
       "      <th>is_english</th>\n",
       "      <th>revenue</th>\n",
       "      <th>vote_average</th>\n",
       "      <th>vote_count</th>\n",
       "      <th>recommendation_1</th>\n",
       "      <th>recommendation_2</th>\n",
       "      <th>recommendation_3</th>\n",
       "      <th>recommendation_4</th>\n",
       "      <th>recommendation_5</th>\n",
       "    </tr>\n",
       "  </thead>\n",
       "  <tbody>\n",
       "    <tr>\n",
       "      <th>0</th>\n",
       "      <td>615656</td>\n",
       "      <td>Meg 2: The Trench</td>\n",
       "      <td>2023.0</td>\n",
       "      <td>1</td>\n",
       "      <td>352056482.0</td>\n",
       "      <td>7.079</td>\n",
       "      <td>1365.0</td>\n",
       "      <td>1006462</td>\n",
       "      <td>298618</td>\n",
       "      <td>569094</td>\n",
       "      <td>1061181</td>\n",
       "      <td>346698</td>\n",
       "    </tr>\n",
       "    <tr>\n",
       "      <th>1</th>\n",
       "      <td>758323</td>\n",
       "      <td>The Pope's Exorcist</td>\n",
       "      <td>2023.0</td>\n",
       "      <td>1</td>\n",
       "      <td>65675816.0</td>\n",
       "      <td>7.433</td>\n",
       "      <td>545.0</td>\n",
       "      <td>713704</td>\n",
       "      <td>296271</td>\n",
       "      <td>502356</td>\n",
       "      <td>1076605</td>\n",
       "      <td>1084225</td>\n",
       "    </tr>\n",
       "    <tr>\n",
       "      <th>2</th>\n",
       "      <td>667538</td>\n",
       "      <td>Transformers: Rise of the Beasts</td>\n",
       "      <td>2023.0</td>\n",
       "      <td>1</td>\n",
       "      <td>407045464.0</td>\n",
       "      <td>7.340</td>\n",
       "      <td>1007.0</td>\n",
       "      <td>496450</td>\n",
       "      <td>569094</td>\n",
       "      <td>298618</td>\n",
       "      <td>385687</td>\n",
       "      <td>877100</td>\n",
       "    </tr>\n",
       "    <tr>\n",
       "      <th>3</th>\n",
       "      <td>640146</td>\n",
       "      <td>Ant-Man and the Wasp: Quantumania</td>\n",
       "      <td>2023.0</td>\n",
       "      <td>1</td>\n",
       "      <td>475766228.0</td>\n",
       "      <td>6.507</td>\n",
       "      <td>2811.0</td>\n",
       "      <td>823999</td>\n",
       "      <td>676841</td>\n",
       "      <td>868759</td>\n",
       "      <td>734048</td>\n",
       "      <td>267805</td>\n",
       "    </tr>\n",
       "    <tr>\n",
       "      <th>4</th>\n",
       "      <td>677179</td>\n",
       "      <td>Creed III</td>\n",
       "      <td>2023.0</td>\n",
       "      <td>1</td>\n",
       "      <td>269000000.0</td>\n",
       "      <td>7.262</td>\n",
       "      <td>1129.0</td>\n",
       "      <td>965839</td>\n",
       "      <td>267805</td>\n",
       "      <td>943822</td>\n",
       "      <td>842942</td>\n",
       "      <td>1035806</td>\n",
       "    </tr>\n",
       "  </tbody>\n",
       "</table>\n",
       "</div>"
      ],
      "text/plain": [
       "       id                              title  release_year  is_english  \\\n",
       "0  615656                  Meg 2: The Trench        2023.0           1   \n",
       "1  758323                The Pope's Exorcist        2023.0           1   \n",
       "2  667538   Transformers: Rise of the Beasts        2023.0           1   \n",
       "3  640146  Ant-Man and the Wasp: Quantumania        2023.0           1   \n",
       "4  677179                          Creed III        2023.0           1   \n",
       "\n",
       "       revenue  vote_average  vote_count recommendation_1 recommendation_2  \\\n",
       "0  352056482.0         7.079      1365.0          1006462           298618   \n",
       "1   65675816.0         7.433       545.0           713704           296271   \n",
       "2  407045464.0         7.340      1007.0           496450           569094   \n",
       "3  475766228.0         6.507      2811.0           823999           676841   \n",
       "4  269000000.0         7.262      1129.0           965839           267805   \n",
       "\n",
       "  recommendation_3 recommendation_4 recommendation_5  \n",
       "0           569094          1061181           346698  \n",
       "1           502356          1076605          1084225  \n",
       "2           298618           385687           877100  \n",
       "3           868759           734048           267805  \n",
       "4           943822           842942          1035806  "
      ]
     },
     "execution_count": 14,
     "metadata": {},
     "output_type": "execute_result"
    }
   ],
   "source": [
    "# Columns for regression, will still need to calculate euclidean distance for each cluster\n",
    "df_regression = df_copy[['id', 'title', 'release_year', 'is_english', 'revenue', 'vote_average', 'vote_count', 'recommendation_1', 'recommendation_2', 'recommendation_3', 'recommendation_4', 'recommendation_5']]\n",
    "df_regression.head()"
   ]
  },
  {
   "cell_type": "markdown",
   "id": "bbe93c55",
   "metadata": {},
   "source": [
    "# 2) Clustering Code #"
   ]
  },
  {
   "cell_type": "code",
   "execution_count": 15,
   "id": "107112a8",
   "metadata": {},
   "outputs": [],
   "source": [
    "import pandas as pd\n",
    "from sklearn.cluster import KMeans\n",
    "from sklearn.preprocessing import StandardScaler\n",
    "from sklearn.metrics import silhouette_score\n",
    "import matplotlib.pyplot as plt\n",
    "import numpy as np\n",
    "from sklearn.decomposition import PCA"
   ]
  },
  {
   "cell_type": "markdown",
   "id": "90e0d3ca",
   "metadata": {},
   "source": [
    "## Step 1: PCA"
   ]
  },
  {
   "cell_type": "code",
   "execution_count": 16,
   "id": "5b447acf",
   "metadata": {},
   "outputs": [
    {
     "name": "stdout",
     "output_type": "stream",
     "text": [
      "Number of components explaining 80% variance: 26\n"
     ]
    }
   ],
   "source": [
    "df_clustering.dropna(inplace=True)\n",
    "\n",
    "features = df_clustering[['revenue', 'release_year', 'is_english',\n",
    "       'runtime', 'Frank Welker', 'Eric Roberts', 'Mark Calaway', 'Mel Blanc',\n",
    "       'Paul Michael Lévesque', 'Bess Flowers', 'Allen Jones', 'Nedumudi Venu',\n",
    "       'KPAC Lalitha', 'Jagathy Sreekumar', 'Warner Bros. Pictures',\n",
    "       'Paramount', 'Metro', 'Goldwyn', 'Mayer', 'Universal Pictures',\n",
    "       'Columbia Pictures', 'Toei Company', 'ARTE', 'ZDF', 'Film', 'ONF | NFB',\n",
    "       'BBC', 'Action', 'Adventure', 'Animation', 'Comedy', 'Crime',\n",
    "       'Documentary', 'Drama', 'Family', 'Fantasy', 'History', 'Horror',\n",
    "       'Music', 'Mystery', 'Romance', 'Science Fiction', 'TV Movie',\n",
    "       'Thriller', 'War', 'Western']]\n",
    "\n",
    "features_to_scale = ['revenue', 'release_year', 'is_english', 'runtime', 'Frank Welker', 'Eric Roberts', \n",
    "                     'Mark Calaway', 'Mel Blanc', 'Paul Michael Lévesque', 'Bess Flowers', \n",
    "                     'Allen Jones', 'Nedumudi Venu', 'KPAC Lalitha', 'Jagathy Sreekumar', \n",
    "                     'Warner Bros. Pictures', 'Paramount', 'Metro', 'Goldwyn', 'Mayer', \n",
    "                     'Universal Pictures', 'Columbia Pictures', 'Toei Company', 'ARTE', \n",
    "                     'ZDF', 'Film', 'ONF | NFB', 'BBC']\n",
    "\n",
    "# Select features for PCA\n",
    "features_for_pca = [col for col in features.columns if col not in features_to_scale]\n",
    "\n",
    "# Scale the features that need to be scaled\n",
    "scaler = StandardScaler()\n",
    "scaled_features = scaler.fit_transform(df_clustering[features_to_scale])\n",
    "\n",
    "# Perform PCA\n",
    "pca = PCA()\n",
    "pca.fit(np.concatenate((scaled_features, df_clustering[features_for_pca]), axis=1))\n",
    "\n",
    "# Determine number of principal components to explain 80% of the variance\n",
    "cumulative_variance = np.cumsum(pca.explained_variance_ratio_)\n",
    "n_components = np.argmax(cumulative_variance >= 0.8) + 1\n",
    "\n",
    "print(\"Number of components explaining 80% variance:\", n_components)\n",
    "\n",
    "pca_final = PCA(n_components=n_components)\n",
    "pca_final_features = pca_final.fit_transform(np.concatenate((scaled_features, df_clustering[features_for_pca]), axis=1))"
   ]
  },
  {
   "cell_type": "markdown",
   "id": "1bae349a",
   "metadata": {},
   "source": [
    "## Step 2: K-Means Clustering"
   ]
  },
  {
   "cell_type": "code",
   "execution_count": 17,
   "id": "2e30ea7b",
   "metadata": {
    "scrolled": false
   },
   "outputs": [
    {
     "name": "stderr",
     "output_type": "stream",
     "text": [
      "c:\\Users\\critt\\anaconda3\\lib\\site-packages\\sklearn\\cluster\\_kmeans.py:1416: FutureWarning: The default value of `n_init` will change from 10 to 'auto' in 1.4. Set the value of `n_init` explicitly to suppress the warning\n",
      "  super()._check_params_vs_input(X, default_n_init=10)\n",
      "c:\\Users\\critt\\anaconda3\\lib\\site-packages\\sklearn\\cluster\\_kmeans.py:1416: FutureWarning: The default value of `n_init` will change from 10 to 'auto' in 1.4. Set the value of `n_init` explicitly to suppress the warning\n",
      "  super()._check_params_vs_input(X, default_n_init=10)\n",
      "c:\\Users\\critt\\anaconda3\\lib\\site-packages\\sklearn\\cluster\\_kmeans.py:1416: FutureWarning: The default value of `n_init` will change from 10 to 'auto' in 1.4. Set the value of `n_init` explicitly to suppress the warning\n",
      "  super()._check_params_vs_input(X, default_n_init=10)\n",
      "c:\\Users\\critt\\anaconda3\\lib\\site-packages\\sklearn\\cluster\\_kmeans.py:1416: FutureWarning: The default value of `n_init` will change from 10 to 'auto' in 1.4. Set the value of `n_init` explicitly to suppress the warning\n",
      "  super()._check_params_vs_input(X, default_n_init=10)\n",
      "c:\\Users\\critt\\anaconda3\\lib\\site-packages\\sklearn\\cluster\\_kmeans.py:1416: FutureWarning: The default value of `n_init` will change from 10 to 'auto' in 1.4. Set the value of `n_init` explicitly to suppress the warning\n",
      "  super()._check_params_vs_input(X, default_n_init=10)\n",
      "c:\\Users\\critt\\anaconda3\\lib\\site-packages\\sklearn\\cluster\\_kmeans.py:1416: FutureWarning: The default value of `n_init` will change from 10 to 'auto' in 1.4. Set the value of `n_init` explicitly to suppress the warning\n",
      "  super()._check_params_vs_input(X, default_n_init=10)\n",
      "c:\\Users\\critt\\anaconda3\\lib\\site-packages\\sklearn\\cluster\\_kmeans.py:1416: FutureWarning: The default value of `n_init` will change from 10 to 'auto' in 1.4. Set the value of `n_init` explicitly to suppress the warning\n",
      "  super()._check_params_vs_input(X, default_n_init=10)\n",
      "c:\\Users\\critt\\anaconda3\\lib\\site-packages\\sklearn\\cluster\\_kmeans.py:1416: FutureWarning: The default value of `n_init` will change from 10 to 'auto' in 1.4. Set the value of `n_init` explicitly to suppress the warning\n",
      "  super()._check_params_vs_input(X, default_n_init=10)\n",
      "c:\\Users\\critt\\anaconda3\\lib\\site-packages\\sklearn\\cluster\\_kmeans.py:1416: FutureWarning: The default value of `n_init` will change from 10 to 'auto' in 1.4. Set the value of `n_init` explicitly to suppress the warning\n",
      "  super()._check_params_vs_input(X, default_n_init=10)\n",
      "c:\\Users\\critt\\anaconda3\\lib\\site-packages\\sklearn\\cluster\\_kmeans.py:1416: FutureWarning: The default value of `n_init` will change from 10 to 'auto' in 1.4. Set the value of `n_init` explicitly to suppress the warning\n",
      "  super()._check_params_vs_input(X, default_n_init=10)\n"
     ]
    },
    {
     "data": {
      "image/png": "[encoded data removed]",
      "text/plain": [
       "<Figure size 1152x576 with 1 Axes>"
      ]
     },
     "metadata": {
      "needs_background": "light"
     },
     "output_type": "display_data"
    }
   ],
   "source": [
    "distortions = []\n",
    "K = range(1, 11)  # Assuming we test for k values from 1 to 10\n",
    "for k in K:\n",
    "    kmeanModel = KMeans(n_clusters=k, random_state=0)\n",
    "    kmeanModel.fit(pca_final_features)\n",
    "    distortions.append(kmeanModel.inertia_)\n",
    "\n",
    "#Plot the elbow curve\n",
    "plt.figure(figsize=(16,8))\n",
    "plt.plot(K, distortions, 'bx-')\n",
    "plt.xlabel('k')\n",
    "plt.ylabel('Distortion')\n",
    "plt.title('The Elbow Method showing the optimal k')\n",
    "plt.show()"
   ]
  },
  {
   "cell_type": "code",
   "execution_count": 24,
   "id": "89e755be",
   "metadata": {},
   "outputs": [
    {
     "name": "stderr",
     "output_type": "stream",
     "text": [
      "c:\\Users\\critt\\anaconda3\\lib\\site-packages\\sklearn\\cluster\\_kmeans.py:1416: FutureWarning: The default value of `n_init` will change from 10 to 'auto' in 1.4. Set the value of `n_init` explicitly to suppress the warning\n",
      "  super()._check_params_vs_input(X, default_n_init=10)\n"
     ]
    }
   ],
   "source": [
    "# From graph above:\n",
    "optimal_k = 5\n",
    "\n",
    "# Perform K-means clustering\n",
    "kmeans = KMeans(n_clusters=optimal_k, random_state=0)\n",
    "kmeans.fit(pca_final_features)\n",
    "clusters = kmeans.labels_\n",
    "\n",
    "# Assign clusters to original dataframe\n",
    "df_clustering['cluster'] = clusters"
   ]
  },
  {
   "cell_type": "code",
   "execution_count": 25,
   "id": "2263de1a",
   "metadata": {},
   "outputs": [
    {
     "data": {
      "image/png": "[encoded data removed]",
      "text/plain": [
       "<Figure size 432x288 with 1 Axes>"
      ]
     },
     "metadata": {
      "needs_background": "light"
     },
     "output_type": "display_data"
    }
   ],
   "source": [
    "import matplotlib.pyplot as plt\n",
    "\n",
    "# Plot each cluster\n",
    "for i in range(optimal_k):\n",
    "    # Select only data observations with cluster label == i\n",
    "    ds = pca_final_features[clusters == i]\n",
    "    # Plot the data observations\n",
    "    plt.scatter(ds[:, 0], ds[:, 1], s=50, label=f'Cluster {i}')\n",
    "\n",
    "# Plot the centroids of the clusters\n",
    "centers = kmeans.cluster_centers_\n",
    "plt.scatter(centers[:, 0], centers[:, 1], c='black', s=200, alpha=0.5, label='Centroids')\n",
    "\n",
    "plt.xlabel('Principal Component 1')\n",
    "plt.ylabel('Principal Component 2')\n",
    "plt.title('Visualization of Clusters with PCA')\n",
    "plt.legend() \n",
    "plt.show()"
   ]
  },
  {
   "cell_type": "code",
   "execution_count": 26,
   "id": "66804580",
   "metadata": {},
   "outputs": [
    {
     "data": {
      "text/plain": [
       "{0: 'Animation',\n",
       " 1: 'Action',\n",
       " 2: 'Action-Adventure-Crime-Drama',\n",
       " 3: 'Mixed',\n",
       " 4: 'Action-Animation-Comedy-Crime-Documentary-Drama-History-Horror-Science Fiction'}"
      ]
     },
     "execution_count": 26,
     "metadata": {},
     "output_type": "execute_result"
    }
   ],
   "source": [
    "columns = ['Action', 'Adventure', 'Animation', 'Comedy', 'Crime',\n",
    "       'Documentary', 'Drama', 'Family', 'Fantasy', 'History', 'Horror',\n",
    "       'Music', 'Mystery', 'Romance', 'Science Fiction', 'TV Movie',\n",
    "       'Thriller', 'War', 'Western', 'Additional Feature 1', 'Additional Feature 2', 'Additional Feature 3',\n",
    "    'Additional Feature 4', \"Additional Feature 5\", 'Additional Feature 6', 'Additional Feature 7']\n",
    "centroids_df = pd.DataFrame(centers, columns=columns)\n",
    "\n",
    "def label_clusters(centroids):\n",
    "    labels = []\n",
    "    for index, row in centroids.iterrows():\n",
    "        label = []\n",
    "        threshold = 0.5\n",
    "        if row['Action'] > threshold:\n",
    "            label.append('Action')\n",
    "        if row['Adventure'] > threshold:\n",
    "            label.append('Adventure')\n",
    "        if row['Animation'] > threshold:\n",
    "            label.append('Animation')\n",
    "        if row['Comedy'] > threshold:\n",
    "            label.append('Comedy')\n",
    "        if row['Crime'] > threshold:\n",
    "            label.append('Crime')\n",
    "        if row['Documentary'] > threshold:\n",
    "            label.append('Documentary')\n",
    "        if row['Drama'] > threshold:\n",
    "            label.append('Drama')\n",
    "        if row['Family'] > threshold:\n",
    "            label.append('Family')\n",
    "        if row['Fantasy'] > threshold:\n",
    "            label.append('Fantasy')\n",
    "        if row['History'] > threshold:\n",
    "            label.append('History')\n",
    "        if row['Horror'] > threshold:\n",
    "            label.append('Horror')\n",
    "        if row['Music'] > threshold:\n",
    "            label.append('Music')\n",
    "        if row['Mystery'] > threshold:\n",
    "            label.append('Mystery')\n",
    "        if row['Romance'] > threshold:\n",
    "            label.append('Romance')\n",
    "        if row['Science Fiction'] > threshold:\n",
    "            label.append('Science Fiction')\n",
    "        if row['TV Movie'] > threshold:\n",
    "            label.append('TV Movie')   \n",
    "        if row['Thriller'] > threshold:\n",
    "            label.append('Thriller')  \n",
    "        if row['War'] > threshold:\n",
    "            label.append('War')\n",
    "        if row['Western'] > threshold:\n",
    "            label.append('Western')\n",
    "        # Construct the label based on the significant features\n",
    "        # If no features were above the threshold, label it as 'Mixed' or similar\n",
    "        if not label: \n",
    "            label.append('Mixed')\n",
    "        labels.append('-'.join(label))\n",
    "    return labels\n",
    "\n",
    "# Assign labels to clusters\n",
    "cluster_labels = label_clusters(centroids_df)\n",
    "cluster_label_dict = {i: label for i, label in enumerate(cluster_labels)}\n",
    "cluster_label_dict"
   ]
  },
  {
   "cell_type": "markdown",
   "id": "604e2728",
   "metadata": {},
   "source": [
    "## Step 4: Silhouette Score Evaluation"
   ]
  },
  {
   "cell_type": "markdown",
   "id": "fa8d569e",
   "metadata": {},
   "source": [
    "- We will calculate the **Silhouette Score** to see how well the clusters are separated.\n",
    "- A higher score indicates a better-defined cluster (ranging from -1 to +1)"
   ]
  },
  {
   "cell_type": "code",
   "execution_count": 27,
   "id": "1e58d64d",
   "metadata": {},
   "outputs": [
    {
     "name": "stdout",
     "output_type": "stream",
     "text": [
      "The silhouette score for k=5: 0.00\n"
     ]
    }
   ],
   "source": [
    "silhouette_avg = silhouette_score(scaled_features, clusters)\n",
    "print(f\"The silhouette score for k={optimal_k}: {silhouette_avg:.2f}\")"
   ]
  },
  {
   "cell_type": "markdown",
   "id": "48602253",
   "metadata": {},
   "source": [
    "## Step 5: Pseudo Rand Index"
   ]
  },
  {
   "cell_type": "markdown",
   "id": "80f7f587",
   "metadata": {},
   "source": [
    "Now we need to add in a thing to check if the recommended movies from the recommended column are in the correct clusters (or what percentage of them are)."
   ]
  },
  {
   "cell_type": "markdown",
   "id": "482c4c84",
   "metadata": {},
   "source": [
    "## Step 6: Recommendation System"
   ]
  },
  {
   "cell_type": "code",
   "execution_count": 37,
   "id": "53b43394",
   "metadata": {},
   "outputs": [
    {
     "name": "stdout",
     "output_type": "stream",
     "text": [
      "          id  euclidean_distance  popularity  vote_average  vote_count\n",
      "0     615656        0.000000e+00    8763.998         7.079      1365.0\n",
      "1     758323        2.863807e+08    5953.227         7.433       545.0\n",
      "2     667538        5.498898e+07    5409.104         7.340      1007.0\n",
      "3     640146        1.237097e+08    4425.387         6.507      2811.0\n",
      "4     385687        3.526532e+08    3583.861         7.275      3694.0\n",
      "...      ...                 ...         ...           ...         ...\n",
      "8492  645740        3.520565e+08       0.600         5.800         4.0\n",
      "8493  531181        3.520565e+08       0.600         6.500         5.0\n",
      "8494  551649        3.520565e+08       0.600         5.000         3.0\n",
      "8495  529864        3.520565e+08       0.600         7.200         3.0\n",
      "8496  545548        3.520565e+08       0.600         7.400         4.0\n",
      "\n",
      "[8497 rows x 5 columns]\n"
     ]
    }
   ],
   "source": [
    "df_regression = df_clustering.copy()\n",
    "def calculate_euclidean_distance(id, df_regression, clustering_column, feature_columns, df):\n",
    "\n",
    "    # Get all members of the cluster from the clustering algorithm\n",
    "    cluster_id = df_regression.loc[df_regression['id'] == id, clustering_column].values[0]\n",
    "    cluster_data = df_regression[df_regression[clustering_column] == cluster_id]\n",
    "\n",
    "    # Calculate euclidean distance\n",
    "    id_features = df_regression.loc[df['id'] == id, feature_columns].values[0]\n",
    "    cluster_features = cluster_data[feature_columns].values\n",
    "    distances = np.linalg.norm(cluster_features - id_features, axis=1)\n",
    "\n",
    "    # Create a new dataframe with it\n",
    "    result_df = pd.DataFrame({\n",
    "        'id': cluster_data['id'],\n",
    "        'euclidean_distance': distances\n",
    "    })\n",
    "    result_df = pd.merge(result_df, df[['id', 'popularity', 'vote_average', 'vote_count']], on='id', how='left')\n",
    "\n",
    "    return result_df\n",
    "\n",
    "# This is how you put a movie in, we can change it to be a name instead but id seemed easier to not mess up\n",
    "id_to_find = 615656\n",
    "\n",
    "# These are presets, but I'm leaving them as a set (really we should define this higher up)\n",
    "cluster_column = 'cluster'\n",
    "feature_columns = ['revenue', 'release_year', 'is_english', 'runtime', 'Frank Welker', 'Eric Roberts', 'Mark Calaway', 'Mel Blanc', 'Paul Michael Lévesque', 'Bess Flowers', 'Allen Jones', 'Nedumudi Venu', 'KPAC Lalitha', 'Jagathy Sreekumar', 'Warner Bros. Pictures', 'Paramount', 'Metro', 'Goldwyn', 'Mayer', 'Universal Pictures', 'Columbia Pictures', 'Toei Company', 'ARTE', 'ZDF', 'Film', 'ONF | NFB', 'BBC', 'Action', 'Adventure', 'Animation', 'Comedy', 'Crime', 'Documentary', 'Drama', 'Family', 'Fantasy', 'History', 'Horror', 'Music', 'Mystery', 'Romance', 'Science Fiction', 'TV Movie', 'Thriller', 'War', 'Western']\n",
    "result_df = calculate_euclidean_distance(id_to_find, df_regression, cluster_column, feature_columns, df)\n",
    "print(result_df)"
   ]
  },
  {
   "cell_type": "markdown",
   "id": "777ab46b",
   "metadata": {},
   "source": [
    "Now we have the df that has euclidean distance within the cluster (and the 3 metrics that I thought were probably good for our regression) next is just to actually make and make the regression (either linear and return top X/all > some value or logistic and return all > than some value). "
   ]
  },
  {
   "cell_type": "code",
   "execution_count": 31,
   "id": "9ad6d86d",
   "metadata": {},
   "outputs": [
    {
     "name": "stdout",
     "output_type": "stream",
     "text": [
      "Based on the genres you like, we recommend these movies:\n",
      "                           title\n",
      "11372           Battle for Terra\n",
      "3345               Atomic Blonde\n",
      "8048                  Shock Wave\n",
      "24794  Hatchet for the Honeymoon\n",
      "1440                         Men\n"
     ]
    }
   ],
   "source": [
    "import numpy as np\n",
    "from scipy.spatial.distance import cdist\n",
    "\n",
    "user_input_genres = ['Horror']\n",
    "\n",
    "genre_columns = ['Action', 'Adventure', 'Animation', 'Comedy', 'Crime',\n",
    "       'Documentary', 'Drama', 'Family', 'Fantasy', 'History', 'Horror',\n",
    "       'Music', 'Mystery', 'Romance', 'Science Fiction', 'TV Movie',\n",
    "       'Thriller', 'War', 'Western', 'Additional Feature 1', 'Additional Feature 2', 'Additional Feature 3',\n",
    "    'Additional Feature 4', \"Additional Feature 5\", 'Additional Feature 6', 'Additional Feature 7']\n",
    "\n",
    "# Convert user input to the same format as your model's features (one-hot encoding)\n",
    "user_input_encoded = [1 if genre in user_input_genres else 0 for genre in genre_columns]\n",
    "\n",
    "# Calculate the distance from the user input to each centroid\n",
    "distances = cdist([user_input_encoded], centroids_df, 'euclidean')\n",
    "\n",
    "# Find the index of the nearest centroid\n",
    "nearest_centroid_index = np.argmin(distances)\n",
    "\n",
    "# Get movies from the nearest cluster\n",
    "recommended_movies = df_clustering[df_clustering['cluster'] == nearest_centroid_index]\n",
    "\n",
    "#Use revenue as a measure of popularity - sort highest to lowest\n",
    "recommended_movies_sorted = recommended_movies.sort_values(by='revenue', ascending=False)\n",
    "number_of_recommendations = 5\n",
    "recommendations = recommended_movies_sorted.sample(n=number_of_recommendations)\n",
    "\n",
    "# Output the recommendations\n",
    "print(\"Based on the genres you like, we recommend these movies:\")\n",
    "print(recommendations[['title']])"
   ]
  }
 ],
 "metadata": {
  "kernelspec": {
   "display_name": "Python 3 (ipykernel)",
   "language": "python",
   "name": "python3"
  },
  "language_info": {
   "codemirror_mode": {
    "name": "ipython",
    "version": 3
   },
   "file_extension": ".py",
   "mimetype": "text/x-python",
   "name": "python",
   "nbconvert_exporter": "python",
   "pygments_lexer": "ipython3",
   "version": "3.8.8"
  }
 },
 "nbformat": 4,
 "nbformat_minor": 5
}
