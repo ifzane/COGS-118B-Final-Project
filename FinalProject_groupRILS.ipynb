{
 "cells": [
  {
   "cell_type": "markdown",
   "metadata": {},
   "source": [
    "# COGS 118B - Final Project (Group RILS)"
   ]
  },
  {
   "cell_type": "markdown",
   "metadata": {},
   "source": [
    "# Movie Recommendation System\n",
    "\n",
    "## Group members\n",
    "\n",
    "- Rebecca Du\n",
    "- Lauren Himpelmann\n",
    "- Stephanie Lew\n",
    "- Ian Zane"
   ]
  },
  {
   "cell_type": "markdown",
   "metadata": {},
   "source": [
    "# Abstract \n",
    "This section should be short and clearly stated. It should be a single paragraph <200 words.  It should summarize: \n",
    "- what your goal/problem is\n",
    "- what the data used represents \n",
    "- the solution/what you did\n",
    "- major results you came up with (mention how results are measured) \n",
    "\n",
    "__NB:__ this final project form is much more report-like than the proposal and the checkpoint. Think in terms of writing a paper with bits of code in the middle to make the plots/tables"
   ]
  },
  {
   "cell_type": "markdown",
   "metadata": {},
   "source": [
    "# Background\n",
    "\n",
    "In today’s rapidly expanding entertainment industry, the sheer volume of movies, books, and other forms of media can easily overwhelm consumers. Especially the exponential growth of data caused particularly during the wake of the COVID-19 pandemic, we saw more and more people working and learning from home and used home entertainment options more often<a name=\"taylor\"></a>[<sup>[1]</sup>](#taylornote).  Spending hours just trying to find the perfect movie can be frustrating especially while navigating sheer amounts of content. Movie recommender systems however subtly changed the ways we make our choices. They offer a solution to this plethora of data by using machine learning techniques to analyze user behavior and preferences. By understanding the pattern of user interaction with movies, these systems can tailor recommendations to individual tastes, making the process of discovering new content more efficient and enjoyable. \n",
    "\n",
    "A study done by Jayalakshmi, Ganesh, Čep, and Murugan seeks to create an effective movie recommendation system by describing the challenges of the system and increasing its accuracy. In order to effectively suggest movies to users, there are three types of methods they discussed. One is collaborative filtering which analyzes user information/history. They look at what the user and users with the same demographic (age, sex, etc.) have watched in order to figure out a pattern in preferences. Content-based filtering looks at only the content of the movies and eliminates the problem where some users of the same demographic might not necessarily have the same taste in movies. Some examples they gave of content-based filtering is looking at the genre or the key characters of the movie. Lastly, context-based filtering takes into account how preferences stay the same across different platforms where “if both people are attracted to Christmas movies from Netflix, it is most likely that they will still like Christmas movies by Showmax””<a name=\"jayalakshmi\"></a>[<sup>[2]</sup>](#jayalakshminote). This research contributes to the development of more accurate and effective recommendation algorithms. Understanding the nuances of these recommendation algorithms is imperative for improving user experience and mitigating effects of information overload."
   ]
  },
  {
   "cell_type": "markdown",
   "metadata": {},
   "source": [
    "# Problem Statement\n",
    "\n",
    "With the overabundance of movies to choose from, we wanted to create a streamlined system through which users could receive recommendations for movies based on existing titles they enjoy. To do this, we used unsupervised machine learning to train a model that will accurately recommend movies based on similarity (and other metrics such as popularity and user rating) to provide individuals with a more tailored recommendation experience. The initial framework of the model is created through PCA for dimensionality reduction and K-Means clustering to group the data. The recommendation part of our project comes from regression, which takes into account factors such as movie genre, popularity, and user rating of certain titles. This way, users will receive recommendations that are close in taste to their liked movies, as well as others that are popular but might be a bit different from their likes to diversify their experience. The success of the recommendation system can be measured through metrics such as the silhouette score for cluster quality. The problem of movie recommendation is easily replicable due to the constant release of new films. Additionally, the usefulness of our recommendation system is not limited to films alone, as it will be able to successfully recommend other things with similar information (such as TV shows and cartoons), thus ensuring the relevance of our project. "
   ]
  },
  {
   "cell_type": "markdown",
   "metadata": {},
   "source": [
    "# Data\n",
    "\n",
    "Detail how/where you obtained the data and cleaned it (if necessary)\n",
    "\n",
    "If the data cleaning process is very long (e.g., elaborate text processing) consider describing it briefly here in text, and moving the actual clearning process to another notebook in your repo (include a link here!).  The idea behind this approach: this is a report, and if you blow up the flow of the report to include a lot of code it makes it hard to read.\n",
    "\n",
    "Please give the following infomration for each dataset you are using\n",
    "- link/reference to obtain it\n",
    "- description of the size of the dataset (# of variables, # of observations)\n",
    "- what an observation consists of\n",
    "- what some critical variables are, how they are represented\n",
    "- any special handling, transformations, cleaning, etc you have done should be demonstrated here!\n"
   ]
  },
  {
   "cell_type": "markdown",
   "metadata": {},
   "source": [
    "# Proposed Solution\n",
    "\n",
    "In this section, clearly describe a solution to the problem. The solution should be applicable to the project domain and appropriate for the dataset(s) or input(s) given. Provide enough detail (e.g., algorithmic description and/or theoretical properties) to convince us that your solution is applicable. Make sure to describe how the solution will be tested.  \n",
    "\n",
    "If you know details already, describe how (e.g., library used, function calls) you plan to implement the solution in a way that is reproducible.\n",
    "\n",
    "If it is appropriate to the problem statement, describe a benchmark model<a name=\"sota\"></a>[<sup>[3]</sup>](#sotanote) against which your solution will be compared. "
   ]
  },
  {
   "cell_type": "markdown",
   "metadata": {},
   "source": [
    "# Evaluation Metrics\n",
    "\n",
    "Propose at least one evaluation metric that can be used to quantify the performance of both the benchmark model and the solution model. The evaluation metric(s) you propose should be appropriate given the context of the data, the problem statement, and the intended solution. Describe how the evaluation metric(s) are derived and provide an example of their mathematical representations (if applicable). Complex evaluation metrics should be clearly defined and quantifiable (can be expressed in mathematical or logical terms)."
   ]
  },
  {
   "cell_type": "markdown",
   "metadata": {},
   "source": [
    "# Results\n",
    "\n",
    "You may have done tons of work on this. Not all of it belongs here. \n",
    "\n",
    "Reports should have a __narrative__. Once you've looked through all your results over the quarter, decide on one main point and 2-4 secondary points you want us to understand. Include the detailed code and analysis results of those points only; you should spend more time/code/plots on your main point than the others.\n",
    "\n",
    "If you went down any blind alleys that you later decided to not pursue, please don't abuse the TAs time by throwing in 81 lines of code and 4 plots related to something you actually abandoned.  Consider deleting things that are not important to your narrative.  If its slightly relevant to the narrative or you just want us to know you tried something, you could keep it in by summarizing the result in this report in a sentence or two, moving the actual analysis to another file in your repo, and providing us a link to that file.\n",
    "\n",
    "### Subsection 1\n",
    "\n",
    "You will likely have different subsections as you go through your report. For instance you might start with an analysis of the dataset/problem and from there you might be able to draw out the kinds of algorithms that are / aren't appropriate to tackle the solution.  Or something else completely if this isn't the way your project works.\n",
    "\n",
    "### Subsection 2\n",
    "\n",
    "Another likely section is if you are doing any feature selection through cross-validation or hand-design/validation of features/transformations of the data\n",
    "\n",
    "### Subsection 3\n",
    "\n",
    "Probably you need to describe the base model and demonstrate its performance.  Maybe you include a learning curve to show whether you have enough data to do train/validate/test split or have to go to k-folds or LOOCV or ???\n",
    "\n",
    "### Subsection 4\n",
    "\n",
    "Perhaps some exploration of the model selection (hyper-parameters) or algorithm selection task. Validation curves, plots showing the variability of perfromance across folds of the cross-validation, etc. If you're doing one, the outcome of the null hypothesis test or parsimony principle check to show how you are selecting the best model.\n",
    "\n",
    "### Subsection 5 \n",
    "\n",
    "Maybe you do model selection again, but using a different kind of metric than before?\n",
    "\n"
   ]
  },
  {
   "cell_type": "markdown",
   "metadata": {},
   "source": [
    "# Discussion\n",
    "\n",
    "### Interpreting the result\n",
    "\n",
    "OK, you've given us quite a bit of tech informaiton above, now its time to tell us what to pay attention to in all that.  Think clearly about your results, decide on one main point and 2-4 secondary points you want us to understand. Highlight HOW your results support those points.  You probably want 2-5 sentences per point.\n",
    "\n",
    "### Limitations\n",
    "\n",
    "Are there any problems with the work?  For instance would more data change the nature of the problem? Would it be good to explore more hyperparams than you had time for?   \n",
    "\n",
    "### Ethics & Privacy\n",
    "\n",
    "If your project has obvious potential concerns with ethics or data privacy discuss that here.  Almost every ML project put into production can have ethical implications if you use your imagination. Use your imagination.\n",
    "\n",
    "Even if you can't come up with an obvious ethical concern that should be addressed, you should know that a large number of ML projects that go into producation have unintended consequences and ethical problems once in production. How will your team address these issues?\n",
    "\n",
    "Consider a tool to help you address the potential issues such as https://deon.drivendata.org\n",
    "\n",
    "### Conclusion\n",
    "\n",
    "Reiterate your main point and in just a few sentences tell us how your results support it. Mention how this work would fit in the background/context of other work in this field if you can. Suggest directions for future work if you want to."
   ]
  },
  {
   "cell_type": "markdown",
   "metadata": {},
   "source": [
    "# Footnotes\n",
    "<a name=\"taylornote\"></a>1.[^](#taylor): Taylor, P. (16 Nov 2023) Volume of data/information created, captured, copied, and consumed worldwide from 2010 to 2020, with forecasts from 2021 to 2025. *Statista*. https://www.statista.com/statistics/871513/worldwide-data-created/<br> \n",
    "<a name=\"jayalakshminote\"></a>2.[^](#jayalakshmi): Jayalakshmi, S., Ganesh, N., Čep, R. & Murugan, J. (29 Jun 2022) Movie Recommender Systems: concepts, Methods, Challenges, and Future Directions. *MDPI Open Access*. https://www.mdpi.com/1424-8220/22/13/4904<br> "
   ]
  },
  {
   "cell_type": "code",
   "execution_count": null,
   "metadata": {},
   "outputs": [],
   "source": []
  }
 ],
 "metadata": {
  "kernelspec": {
   "display_name": "Python 3 (ipykernel)",
   "language": "python",
   "name": "python3"
  },
  "language_info": {
   "codemirror_mode": {
    "name": "ipython",
    "version": 3
   },
   "file_extension": ".py",
   "mimetype": "text/x-python",
   "name": "python",
   "nbconvert_exporter": "python",
   "pygments_lexer": "ipython3",
   "version": "3.11.5"
  }
 },
 "nbformat": 4,
 "nbformat_minor": 2
}
