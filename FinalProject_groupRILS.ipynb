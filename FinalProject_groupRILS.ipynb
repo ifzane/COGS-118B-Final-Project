{
 "cells": [
  {
   "cell_type": "markdown",
   "metadata": {},
   "source": [
    "# COGS 118B - Final Project (Group RILS)"
   ]
  },
  {
   "cell_type": "markdown",
   "metadata": {},
   "source": [
    "# Movie Recommendation System\n",
    "\n",
    "## Group members\n",
    "\n",
    "- Rebecca Du\n",
    "- Lauren Himpelmann\n",
    "- Stephanie Lew\n",
    "- Ian Zane"
   ]
  },
  {
   "cell_type": "markdown",
   "metadata": {},
   "source": [
    "# Abstract (WRITE STUFF)\n",
    "\n",
    "In today’s day and age, finding a movie to watch has become almost impossible. We wanted to see if we could essentially mitigate this exhausting task by creating a better movie recommender system with unsupervised machine learning. With this in mind, we wanted to train a model to recommend movies based on similarity to other movies, based on metrics like popularity/rating and thus hoped to create a more accurate movie recommender system.. We utilized a dataset from Kaggle titled “Movies Daily Update Dataset” which contains extensive data for over 700,000 movies from the TMDB Dataset. Here we are able to get valuable information on a plethora of movies, specifically genre, credits, and recommendations. We first began with cleaning up the data. We started without a dimensionality reduction step, going straight to K-Means, but that ended up being the wrong move as the results did not make sense. We thus then decided to use PCA for dimensionality reduction. Then, we went on to perform Agglomerative Clustering, finding that 10 clusters were the optimal amount. Then we wanted to evaluate our clustering algorithm’s performance with the Silhouette Score (? for k = ?) and the Pseudo Rand Index (72.59). Finally, we used logistic regression for the actual recommending system by using euclidean distance between the inputed movie and TMDB count count/average/ popularity to predict the id of the recommended movie. In our results, we inputed ​​615656 (Meg 2: The Trench) and it returned 1006462 (The Flood) and 205321 (Sharknado). All these movies are fairly similar, based on the same idea of a crazed marine animal attacking. \n",
    "\n", 
   ]
  },
  {
   "cell_type": "markdown",
   "metadata": {},
   "source": [
    "# Background\n",
    "\n",
    "In today’s rapidly expanding entertainment industry, the sheer volume of movies, books, and other forms of media can easily overwhelm consumers. Especially the exponential growth of data caused particularly during the wake of the COVID-19 pandemic, we saw more and more people working and learning from home and used home entertainment options more often<a name=\"taylor\"></a>[<sup>[1]</sup>](#taylornote).  Spending hours just trying to find the perfect movie can be frustrating especially while navigating sheer amounts of content. Movie recommender systems however subtly changed the ways we make our choices. They offer a solution to this plethora of data by using machine learning techniques to analyze user behavior and preferences. By understanding the pattern of user interaction with movies, these systems can tailor recommendations to individual tastes, making the process of discovering new content more efficient and enjoyable. \n",
    "\n",
    "A study done by Jayalakshmi, Ganesh, Čep, and Murugan seeks to create an effective movie recommendation system by describing the challenges of the system and increasing its accuracy. In order to effectively suggest movies to users, there are three types of methods they discussed. One is collaborative filtering which analyzes user information/history. They look at what the user and users with the same demographic (age, sex, etc.) have watched in order to figure out a pattern in preferences. Content-based filtering looks at only the content of the movies and eliminates the problem where some users of the same demographic might not necessarily have the same taste in movies. Some examples they gave of content-based filtering is looking at the genre or the key characters of the movie. Lastly, context-based filtering takes into account how preferences stay the same across different platforms where “if both people are attracted to Christmas movies from Netflix, it is most likely that they will still like Christmas movies by Showmax””<a name=\"jayalakshmi\"></a>[<sup>[2]</sup>](#jayalakshminote). This research contributes to the development of more accurate and effective recommendation algorithms. Understanding the nuances of these recommendation algorithms is imperative for improving user experience and mitigating effects of information overload."
   ]
  },
  {
   "cell_type": "markdown",
   "metadata": {},
   "source": [
    "# Problem Statement\n",
    "\n",
    "With the overabundance of movies to choose from, we wanted to create a streamlined system through which users could receive recommendations for movies based on existing titles they enjoy. To do this, we used unsupervised machine learning to train a model that will accurately recommend movies based on similarity (and other metrics such as popularity and user rating) to provide individuals with a more tailored recommendation experience. The initial framework of the model is created through PCA for dimensionality reduction and K-Means clustering to group the data. The recommendation part of our project comes from regression, which takes into account factors such as movie genre, popularity, and user rating of certain titles. This way, users will receive recommendations that are close in taste to their liked movies, as well as others that are popular but might be a bit different from their likes to diversify their experience. The success of the recommendation system can be measured through metrics such as the silhouette score for cluster quality. The problem of movie recommendation is easily replicable due to the constant release of new films. Additionally, the usefulness of our recommendation system is not limited to films alone, as it will be able to successfully recommend other things with similar information (such as TV shows and cartoons), thus ensuring the relevance of our project. "
   ]
  },
  {
   "cell_type": "markdown",
   "metadata": {},
   "source": [
    "# Data\n",
    "- **[Movies Daily Update Dataset](https://www.kaggle.com/datasets/akshaypawar7/millions-of-movies)**\n",
    "    - **Specs**: 20 variables; 575,340 unique values (observations)\n",
    "    - **Summary**: This dataset contains metadata for many movies including information on cast, crew, plot keywords, budget, revenue, release dates, languages, etc. It was taken from the TMDB Dataset, specifically the TMDB open API.\n",
    "    - **Observation**: An observation is defined as one movie, with information about the movie’s cast, crew, plot keywords, budget, revenue, release date, languages, etc.\n",
    "    - **Critical Values**:\n",
    "      - **Genre**: Dash-separated string (will need to be manually separated into a list before training)\n",
    "      - **Language**: Abbreviated (e.g. English -> en)\n",
    "      - **Release Date**: String in year-month-day format\n",
    "      - **Runtime**: Decimal, rounded up to nearest whole number\n",
    "      - **Credit**: Dash-separated string (will need to be manually separated into a list before training)\n",
    "      - **Keywords**: Dash-separated string (will need to be manually separated into a list before training)\n",
    "      - **Recommendations**: Dash-separated string (will need to be manually separated into a list before training)\n",
    "    - **Use**: This will be the main dataset that we will perform unsupervised machine learning on. The “recommendations” column will be omitted from training and be used as a measure of project success."
   ]
  },
  {
   "cell_type": "markdown",
   "metadata": {},
   "source": [
    "# Proposed Solution\n",
    "\n",
    "To create recommendations, we aim to use a **clustering algorithm to identify groups of movies based on characteristics** like genre, plot keywords, cast, language, release date, etc, and then use metrics such as the reviews and the Euclidean distance in the feature space to determine if a given movie within a cluster should be recommended to the individual. We think this solution is likely to provide good results, as both steps should help narrow down the hundreds of thousands of possible movies from this dataset into a small selection of good-quality recommendations based on specific movies. The first step aims to subsection the data into smaller groups of similar movies based on the general criteria used to decide the type of movie. For example, this step would help people narrow their focus down to only a selection of action/superhero movies if they really enjoy the Marvel franchise. Then, dimensionality reduction will be applied through PCA to reduce the complexity of the data and make it easier to process. Then from there, the third  step aims to collect a subset of the movies in this larger class based on their quality. While there may be a movie that in terms of genre and cast is relatively similar to one you enjoy, if the movie itself isn’t good you probably won’t appreciate the recommendation.\n",
    "\n",
    "To achieve this, we will likely use a model from the sklearn clustering methods to form the basis of the first section, and then follow it with a supervised model to generate the output of specific movie recommendations. We will likely need to take some steps to organize the data in a more usable form, such as using one-hot encoding for the many categorical variables, using standardization to account for the drastic differences in magnitude between things like revenue and scores, or potentially using dimensionality reduction to manage the significant number of dimensions that will be created after one-hot encoding\n",
    "\n",
    "While many other services do movie recommendations, due to the nature of differences (such as the different datasets or them using large collections of user preferences), there isn’t a clear example to test against. However, we do still have metrics for evaluating them. This data is scraped from TMDB which has its own suggestions of movies to watch, which will be used as a comparison for the quality of the mode."
   ]
  },
  {
   "cell_type": "markdown",
   "metadata": {},
   "source": [
    "# Evaluation Metrics\n",
    "\n",
    "In our proposed dataset (Movies Daily Update Dataset), the original site the data is scraped from contains a list of recommended movies. We aim to treat this as a form of benchmark model that can be used as a comparison for our proposed solution, and also as a means of calculating an adjusted rand index. The recommendations from TMDB form a kind of cluster, where we can check if two items belong to the same cluster based on whether they show up in the recommendation of each other. Unfortunately, as we don’t know how TMDB creates their recommendations, we will be unable to truly test it as a benchmark model, as we can’t evaluate any internal performance of it. Additionally, we will use the Silhouette coefficient to have a better means of evaluating our overall clusters, given that we have no real ground truths for them.\n",
    "\n",
    "The **rand index** is a metric for comparing two distinct clustering methods by comparing pairs of data points and their respective clusters in each. For example, if two data points are in the same cluster in algorithm A, and they are in the same cluster in algorithm B, then the rand index would be higher, while if they are in the same cluster in algorithm A but different clusters in algorithm B, then the rand index would be lower. The adjusted rand index is just a version of the rand index which considers the likelihood of agreement due to random chance. The formula for the rand index is given by R = $\\frac{a + b}{a + b + c + d}$ where $a$ is the number of points in the same cluster in both, $b$ is the number of points in different clusters in both, and $c$ and $d$ are the number of points which have disagreements between the two clusterings. For the recommender system, we will implement a **pseudo rand index** that uses the top 5 TMDB recommendations for each movie and assesses whether they belong to the same cluster as the movie you are searching. If our model performs well, a high percentage of the recommended movies will be in the same cluster. \n",
    "\n",
    "The **silhouette coefficient** on the other hand is an internal evaluation of a single model. This is calculated by comparing the mean distance between a point and all other points of the same cluster, to the smallest mean distance between that point and all points of a different cluster. This means if a cluster is well formed, and all points are relatively similar to each other the silhouette coefficient for each point will be closer to $1$, while if a point is poorly classified and would likely fit better into a different cluster, the value will be closer to -1. The silhouette score can be calculated for a single point by using the formula $\\frac{b(i) - a(i)}{max(a(i),b(i)}$ where $a(i)$ is the mean distance between a point and all other points of the same cluster and $b(i)$ is the minimum of all possible mean distances between that point and all points of another cluster."
   ]
  },
  {
   "cell_type": "markdown",
   "metadata": {},
   "source": [
    "# Results\n",
    "\n",
    "The core of our recommender system is the **K-Means Clustering** algorithm we employed to cluster the movies in our dataset. However, through trial and error, we realized that to achieve a meaningful clustering result, we needed to dimensionally reduce the data first. The following subsections lists the process through which we reached our end result. "
   ]
  },
  {
   "cell_type": "markdown",
   "metadata": {},
   "source": [
    "### 1) Data Cleaning\n",
    "\n",
    "We began the process by cleaning the data we had. Since the dataset was of a considerable size and had many features that would not be relevant in the final algorithm, we performed the basic preprocessing steps listed below:\n",
    "\n",
    "1) **Dropping irrelevant columns/features**: The dataset contained information that wouldn't be needed in the final algorithm, such as \"overview\" (summary of the movie's plot), \"keywords\" (similar to genre), and other features that are useful to the database the data was scraped from but not for our project. These columns were thus dropped. \n",
    "\n",
    "2) **Dropping duplicates and NaNs**: To ensure that we have a meaningful dataset without duplicate or NaN values, we cleared those out. \n",
    "\n",
    "3) **One-Hot Encoding for Production Companies, Credits, Language, Genres**: These features are crucial for our recommender because these are the metrics by which the recommender decides what movies to suggest. However, in the original database they were listed as a hyphenated string and contained upwards of 20 unique names for each movie. \n",
    "    - Thus, to simplify things, we split the features into individual columns and selected the top 13 unique companies and top 10 unique full name credits (with > 400 appearances in the entire database) to one-hot encode. \n",
    "    - Due to the importance of genre in categorizing films, we kept all the genres listed (19) and one-hot encoded them as well. \n",
    "\n",
    "3) **TMDB Recommendations**: As previously mentioned, the dataset contained movies that were recommended in The Movie Database. We intended to use these recommendations to assess the performance of our clustering algorithm. However, like the other features, this was also a hyphenated string. Thus, we split it into separate columns and kept the first 5 recommendations for each movie. \n",
    "    \n",
    "5) **Creating New Dataframes for Clustering and Regression**: We completed the data cleaning process by creating copies of the resultant database. \n",
    "    - df_clustering retained only the one-hot encoded feature columns, as well as other relevant features such as language and release year. The values for genre were artificially inflated from one-hot encoded '1' to '3' due to the importance of genre in categorizing movies. \n",
    "    - df_regression contained more features (such as vote_count, popularity, etc.) that would be used in the recommendation function at the end. \n",
    "    \n",
    "At this step in the process, the important dataframe is df_clustering, which is shown below. "
   ]
  },
  {
   "cell_type": "code",
   "execution_count": 1,
   "metadata": {},
   "outputs": [
    {
     "data": {
      "text/html": [
       "<div>\n",
       "<style scoped>\n",
       "    .dataframe tbody tr th:only-of-type {\n",
       "        vertical-align: middle;\n",
       "    }\n",
       "\n",
       "    .dataframe tbody tr th {\n",
       "        vertical-align: top;\n",
       "    }\n",
       "\n",
       "    .dataframe thead th {\n",
       "        text-align: right;\n",
       "    }\n",
       "</style>\n",
       "<table border=\"1\" class=\"dataframe\">\n",
       "  <thead>\n",
       "    <tr style=\"text-align: right;\">\n",
       "      <th></th>\n",
       "      <th>id</th>\n",
       "      <th>title</th>\n",
       "      <th>revenue</th>\n",
       "      <th>runtime</th>\n",
       "      <th>Frank Welker</th>\n",
       "      <th>Eric Roberts</th>\n",
       "      <th>Mark Calaway</th>\n",
       "      <th>Mel Blanc</th>\n",
       "      <th>Paul Michael Lévesque</th>\n",
       "      <th>Bess Flowers</th>\n",
       "      <th>...</th>\n",
       "      <th>Thriller</th>\n",
       "      <th>War</th>\n",
       "      <th>Western</th>\n",
       "      <th>recommendation_1</th>\n",
       "      <th>recommendation_2</th>\n",
       "      <th>recommendation_3</th>\n",
       "      <th>recommendation_4</th>\n",
       "      <th>recommendation_5</th>\n",
       "      <th>is_english</th>\n",
       "      <th>release_year</th>\n",
       "    </tr>\n",
       "  </thead>\n",
       "  <tbody>\n",
       "    <tr>\n",
       "      <th>0</th>\n",
       "      <td>615656</td>\n",
       "      <td>Meg 2: The Trench</td>\n",
       "      <td>352056482.0</td>\n",
       "      <td>116.0</td>\n",
       "      <td>0</td>\n",
       "      <td>0</td>\n",
       "      <td>0</td>\n",
       "      <td>0</td>\n",
       "      <td>0</td>\n",
       "      <td>0</td>\n",
       "      <td>...</td>\n",
       "      <td>0</td>\n",
       "      <td>0</td>\n",
       "      <td>0</td>\n",
       "      <td>1006462</td>\n",
       "      <td>298618</td>\n",
       "      <td>569094</td>\n",
       "      <td>1061181</td>\n",
       "      <td>346698</td>\n",
       "      <td>1</td>\n",
       "      <td>2023.0</td>\n",
       "    </tr>\n",
       "    <tr>\n",
       "      <th>1</th>\n",
       "      <td>758323</td>\n",
       "      <td>The Pope's Exorcist</td>\n",
       "      <td>65675816.0</td>\n",
       "      <td>103.0</td>\n",
       "      <td>0</td>\n",
       "      <td>0</td>\n",
       "      <td>0</td>\n",
       "      <td>0</td>\n",
       "      <td>0</td>\n",
       "      <td>0</td>\n",
       "      <td>...</td>\n",
       "      <td>3</td>\n",
       "      <td>0</td>\n",
       "      <td>0</td>\n",
       "      <td>713704</td>\n",
       "      <td>296271</td>\n",
       "      <td>502356</td>\n",
       "      <td>1076605</td>\n",
       "      <td>1084225</td>\n",
       "      <td>1</td>\n",
       "      <td>2023.0</td>\n",
       "    </tr>\n",
       "    <tr>\n",
       "      <th>2</th>\n",
       "      <td>667538</td>\n",
       "      <td>Transformers: Rise of the Beasts</td>\n",
       "      <td>407045464.0</td>\n",
       "      <td>127.0</td>\n",
       "      <td>0</td>\n",
       "      <td>0</td>\n",
       "      <td>0</td>\n",
       "      <td>0</td>\n",
       "      <td>0</td>\n",
       "      <td>0</td>\n",
       "      <td>...</td>\n",
       "      <td>0</td>\n",
       "      <td>0</td>\n",
       "      <td>0</td>\n",
       "      <td>496450</td>\n",
       "      <td>569094</td>\n",
       "      <td>298618</td>\n",
       "      <td>385687</td>\n",
       "      <td>877100</td>\n",
       "      <td>1</td>\n",
       "      <td>2023.0</td>\n",
       "    </tr>\n",
       "    <tr>\n",
       "      <th>3</th>\n",
       "      <td>640146</td>\n",
       "      <td>Ant-Man and the Wasp: Quantumania</td>\n",
       "      <td>475766228.0</td>\n",
       "      <td>125.0</td>\n",
       "      <td>0</td>\n",
       "      <td>0</td>\n",
       "      <td>0</td>\n",
       "      <td>0</td>\n",
       "      <td>0</td>\n",
       "      <td>0</td>\n",
       "      <td>...</td>\n",
       "      <td>0</td>\n",
       "      <td>0</td>\n",
       "      <td>0</td>\n",
       "      <td>823999</td>\n",
       "      <td>676841</td>\n",
       "      <td>868759</td>\n",
       "      <td>734048</td>\n",
       "      <td>267805</td>\n",
       "      <td>1</td>\n",
       "      <td>2023.0</td>\n",
       "    </tr>\n",
       "    <tr>\n",
       "      <th>4</th>\n",
       "      <td>677179</td>\n",
       "      <td>Creed III</td>\n",
       "      <td>269000000.0</td>\n",
       "      <td>116.0</td>\n",
       "      <td>0</td>\n",
       "      <td>0</td>\n",
       "      <td>0</td>\n",
       "      <td>0</td>\n",
       "      <td>0</td>\n",
       "      <td>0</td>\n",
       "      <td>...</td>\n",
       "      <td>0</td>\n",
       "      <td>0</td>\n",
       "      <td>0</td>\n",
       "      <td>965839</td>\n",
       "      <td>267805</td>\n",
       "      <td>943822</td>\n",
       "      <td>842942</td>\n",
       "      <td>1035806</td>\n",
       "      <td>1</td>\n",
       "      <td>2023.0</td>\n",
       "    </tr>\n",
       "  </tbody>\n",
       "</table>\n",
       "<p>5 rows × 53 columns</p>\n",
       "</div>"
      ],
      "text/plain": [
       "       id                              title      revenue  runtime  \\\n",
       "0  615656                  Meg 2: The Trench  352056482.0    116.0   \n",
       "1  758323                The Pope's Exorcist   65675816.0    103.0   \n",
       "2  667538   Transformers: Rise of the Beasts  407045464.0    127.0   \n",
       "3  640146  Ant-Man and the Wasp: Quantumania  475766228.0    125.0   \n",
       "4  677179                          Creed III  269000000.0    116.0   \n",
       "\n",
       "   Frank Welker  Eric Roberts  Mark Calaway  Mel Blanc  Paul Michael Lévesque  \\\n",
       "0             0             0             0          0                      0   \n",
       "1             0             0             0          0                      0   \n",
       "2             0             0             0          0                      0   \n",
       "3             0             0             0          0                      0   \n",
       "4             0             0             0          0                      0   \n",
       "\n",
       "   Bess Flowers  ...  Thriller  War  Western  recommendation_1  \\\n",
       "0             0  ...         0    0        0           1006462   \n",
       "1             0  ...         3    0        0            713704   \n",
       "2             0  ...         0    0        0            496450   \n",
       "3             0  ...         0    0        0            823999   \n",
       "4             0  ...         0    0        0            965839   \n",
       "\n",
       "   recommendation_2  recommendation_3  recommendation_4  recommendation_5  \\\n",
       "0            298618            569094           1061181            346698   \n",
       "1            296271            502356           1076605           1084225   \n",
       "2            569094            298618            385687            877100   \n",
       "3            676841            868759            734048            267805   \n",
       "4            267805            943822            842942           1035806   \n",
       "\n",
       "   is_english  release_year  \n",
       "0           1        2023.0  \n",
       "1           1        2023.0  \n",
       "2           1        2023.0  \n",
       "3           1        2023.0  \n",
       "4           1        2023.0  \n",
       "\n",
       "[5 rows x 53 columns]"
      ]
     },
     "execution_count": 1,
     "metadata": {},
     "output_type": "execute_result"
    }
   ],
   "source": [
    "import pandas as pd\n",
    "import numpy as np\n",
    "from collections import Counter\n",
    "\n",
    "#Load data\n",
    "df = pd.read_csv('movies.csv')\n",
    "df.head()\n",
    "df.shape[0]\n",
    "\n",
    "#Drop irrelevant columns, duplicates, NaNs\n",
    "columns_to_remove = ['overview', 'keywords', 'poster_path', 'backdrop_path']\n",
    "df = df.drop(columns = columns_to_remove)\n",
    "df.head()\n",
    "df_no_duplicates = df.drop_duplicates()\n",
    "df_no_duplicates.shape[0]\n",
    "df_cleaned = df_no_duplicates.dropna(subset=['recommendations'])\n",
    "df_cleaned.head()\n",
    "df_cleaned.shape[0]\n",
    "\n",
    "#One-Hot Encoding\n",
    "df_copy = df.copy()\n",
    "\n",
    "# Handling missing values by replacing NaNs with an empty string\n",
    "df_copy['production_companies'] = df_copy['production_companies'].fillna('')\n",
    "df_copy['credits'] = df_copy['credits'].fillna('')\n",
    "\n",
    "# Splitting the production companies by '-' and flattening the list\n",
    "all_companies = [company for sublist in df_copy['production_companies'].apply(lambda x: str(x).split('-')) for company in sublist]\n",
    "\n",
    "# Filter companies occurring at least 1750 times and are not empty\n",
    "company_counts = Counter(all_companies)\n",
    "unique_companies = [company for company, count in company_counts.items() if count >= 1750 and company != '']\n",
    "\n",
    "# Company One Hot Encoding\n",
    "company_data = {}\n",
    "for company in unique_companies:\n",
    "    company_data[company] = df_copy['production_companies'].apply(lambda x: 1 if company in x else 0)\n",
    "\n",
    "# Splitting the credits by '-' and flattening the list\n",
    "all_credits = [credit for sublist in df_copy['credits'].apply(lambda x: str(x).split('-')) for credit in sublist]\n",
    "\n",
    "# Filter credits occurring at least 400 and are full names (at least 2 names)\n",
    "credit_counts = Counter(all_credits)\n",
    "unique_credits = [credit for credit, count in credit_counts.items() if count >= 400 and len(credit.split()) >= 2]\n",
    "\n",
    "# Credits One Hot Encoding\n",
    "credit_data = {}\n",
    "for credit in unique_credits:\n",
    "    credit_data[credit] = df_copy['credits'].apply(lambda x: 1 if credit in x else 0)\n",
    "\n",
    "credit_df = pd.DataFrame(credit_data)\n",
    "df_copy = pd.concat([df_copy, credit_df], axis=1)\n",
    "company_df = pd.DataFrame(company_data)\n",
    "df_copy = pd.concat([df_copy, company_df], axis=1)\n",
    "\n",
    "# Split the 'recommendations' column by '-' and expand the result into separate columns\n",
    "recommendations_split = df_copy['recommendations'].str.split('-', expand=True)\n",
    "\n",
    "# Truncate recommendations_split to include only the first five split columns\n",
    "recommendations_split = recommendations_split.iloc[:, :5]\n",
    "\n",
    "# Assign new column names to the truncated columns\n",
    "recommendations_split.columns = ['recommendation_1', 'recommendation_2', 'recommendation_3', 'recommendation_4', 'recommendation_5']\n",
    "\n",
    "# One Hot Encoding for genres\n",
    "genres_split = df_copy['genres'].str.get_dummies(sep='-')\n",
    "\n",
    "# Adding everything together and removing all the old columns\n",
    "df_copy = pd.concat([df_copy, genres_split, recommendations_split], axis=1)\n",
    "df_copy = df_copy.drop(columns=['genres', 'recommendations', 'production_companies', 'credits'])\n",
    "\n",
    "df_copy['is_english'] = 0\n",
    "df_copy.loc[df_copy['original_language'] == 'en', 'is_english'] = 1\n",
    "\n",
    "df_copy.drop('original_language', axis=1, inplace=True)\n",
    "\n",
    "df_copy['release_date'] = pd.to_datetime(df_copy['release_date'])\n",
    "df_copy['release_year'] = df_copy['release_date'].dt.year\n",
    "\n",
    "df_copy.drop('release_date', axis=1, inplace=True)\n",
    "\n",
    "# Removing columns for clustering \n",
    "df_clustering = df_copy.drop(columns=['popularity', 'budget', 'status', 'tagline', 'vote_average', 'vote_count'])\n",
    "\n",
    "#Artificially inflate 'genre' by setting all one-hot encoded values to 2\n",
    "df_clustering['Action'] = df_clustering['Action'].replace(1,3)\n",
    "df_clustering['Adventure'] = df_clustering['Adventure'].replace(1,3)\n",
    "df_clustering['Animation'] = df_clustering['Animation'].replace(1,3)\n",
    "df_clustering['Comedy'] = df_clustering['Comedy'].replace(1,3)\n",
    "df_clustering['Crime'] = df_clustering['Crime'].replace(1,3)\n",
    "df_clustering['Documentary'] = df_clustering['Documentary'].replace(1,3)\n",
    "df_clustering['Drama'] = df_clustering['Drama'].replace(1,3)\n",
    "df_clustering['Family'] = df_clustering['Family'].replace(1,3)\n",
    "df_clustering['Fantasy'] = df_clustering['Fantasy'].replace(1,3)\n",
    "df_clustering['History'] = df_clustering['History'].replace(1,3)\n",
    "df_clustering['Horror'] = df_clustering['Horror'].replace(1,3)\n",
    "df_clustering['Music'] = df_clustering['Music'].replace(1,3)\n",
    "df_clustering['Mystery'] = df_clustering['Mystery'].replace(1,3)\n",
    "df_clustering['Romance'] = df_clustering['Romance'].replace(1,3)\n",
    "df_clustering['Science Fiction'] = df_clustering['Science Fiction'].replace(1,3)\n",
    "df_clustering['Thriller'] = df_clustering['Thriller'].replace(1,3)\n",
    "df_clustering['TV Movie'] = df_clustering['TV Movie'].replace(1,3)\n",
    "df_clustering['War'] = df_clustering['War'].replace(1,3)\n",
    "df_clustering['Western'] = df_clustering['Western'].replace(1,3)\n",
    "\n",
    "df_clustering.head()"
   ]
  },
  {
   "cell_type": "markdown",
   "metadata": {},
   "source": [
    "### 2) Dimesionality Reduction\n",
    "\n",
    "In our initial approach to the project, we did not use any dimensionality reduction algorithms and simply went straight into using sklearn's K-Means Clustering implementation. However, the results we got were confusing, as indicated by the graphs below (unfortunately, we have since deleted the code that generated the graph). "
   ]
  },
  {
   "cell_type": "markdown",
   "metadata": {},
   "source": [
    "![bad_kmeans_elbow.png](bad_kmeans_elbow.png)"
   ]
  },
  {
   "cell_type": "markdown",
   "metadata": {},
   "source": [
    "![bad_kmeans_cluster.png](bad_kmeans_cluster.png)"
   ]
  },
  {
   "cell_type": "markdown",
   "metadata": {},
   "source": [
    "Thus, we decided to implement **PCA** to dimensionally reduce the data in df_clustering and prep it for K-Means. Specifically, the steps we took were: \n",
    "\n",
    "1) **Genre Value Inflation**: As mentioned before, we artificially inflated the one-hot encoded genre values from \"1\" to \"3\" due to our view that genre is arguably the most important factor when looking for movies to recommend. \n",
    "\n",
    "2) **Scaling Features**: Due to K-Means being sensitive to large values, we needed to scale the numerical features (revenue, release_year, etc.) to make everything balanced. We scaled everything except the genres. \n",
    "\n",
    "3) **Performed PCA**: We then combined the genres with the scaled features and performed PCA\n",
    "\n",
    "4) **Components Explaining 80% Variance**: To assess how much data was preserved after the dimensionality reduction, we looked for the number of components explaining 80% variance and got **26**. "
   ]
  },
  {
   "cell_type": "code",
   "execution_count": 2,
   "metadata": {},
   "outputs": [
    {
     "name": "stdout",
     "output_type": "stream",
     "text": [
      "Number of components explaining 80% variance: 26\n"
     ]
    }
   ],
   "source": [
    "import pandas as pd\n",
    "from sklearn.cluster import KMeans\n",
    "from sklearn.preprocessing import StandardScaler\n",
    "from sklearn.metrics import silhouette_score\n",
    "import matplotlib.pyplot as plt\n",
    "import numpy as np\n",
    "from sklearn.decomposition import PCA\n",
    "\n",
    "df_clustering.dropna(inplace=True)\n",
    "\n",
    "features = df_clustering[['revenue', 'release_year', 'is_english',\n",
    "       'runtime', 'Frank Welker', 'Eric Roberts', 'Mark Calaway', 'Mel Blanc',\n",
    "       'Paul Michael Lévesque', 'Bess Flowers', 'Allen Jones', 'Nedumudi Venu',\n",
    "       'KPAC Lalitha', 'Jagathy Sreekumar', 'Warner Bros. Pictures',\n",
    "       'Paramount', 'Metro', 'Goldwyn', 'Mayer', 'Universal Pictures',\n",
    "       'Columbia Pictures', 'Toei Company', 'ARTE', 'ZDF', 'Film', 'ONF | NFB',\n",
    "       'BBC', 'Action', 'Adventure', 'Animation', 'Comedy', 'Crime',\n",
    "       'Documentary', 'Drama', 'Family', 'Fantasy', 'History', 'Horror',\n",
    "       'Music', 'Mystery', 'Romance', 'Science Fiction', 'TV Movie',\n",
    "       'Thriller', 'War', 'Western']]\n",
    "\n",
    "features_to_scale = ['revenue', 'release_year', 'is_english', 'runtime', 'Frank Welker', 'Eric Roberts', \n",
    "                     'Mark Calaway', 'Mel Blanc', 'Paul Michael Lévesque', 'Bess Flowers', \n",
    "                     'Allen Jones', 'Nedumudi Venu', 'KPAC Lalitha', 'Jagathy Sreekumar', \n",
    "                     'Warner Bros. Pictures', 'Paramount', 'Metro', 'Goldwyn', 'Mayer', \n",
    "                     'Universal Pictures', 'Columbia Pictures', 'Toei Company', 'ARTE', \n",
    "                     'ZDF', 'Film', 'ONF | NFB', 'BBC']\n",
    "\n",
    "# Select features for PCA\n",
    "features_for_pca = [col for col in features.columns if col not in features_to_scale]\n",
    "\n",
    "# Scale the features that need to be scaled\n",
    "scaler = StandardScaler()\n",
    "scaled_features = scaler.fit_transform(df_clustering[features_to_scale])\n",
    "\n",
    "# Perform PCA\n",
    "pca = PCA()\n",
    "pca.fit(np.concatenate((scaled_features, df_clustering[features_for_pca]), axis=1))\n",
    "\n",
    "# Determine number of principal components to explain 80% of the variance\n",
    "cumulative_variance = np.cumsum(pca.explained_variance_ratio_)\n",
    "n_components = np.argmax(cumulative_variance >= 0.8) + 1\n",
    "\n",
    "print(\"Number of components explaining 80% variance:\", n_components)\n",
    "\n",
    "pca_final = PCA(n_components=n_components)\n",
    "pca_final_features = pca_final.fit_transform(np.concatenate((scaled_features, df_clustering[features_for_pca]), axis=1))"
   ]
  },
  {
   "cell_type": "markdown",
   "metadata": {},
   "source": [
    "### 3) K-Means Clustering\n",
    "\n",
    "Now we can finally perform K-Means Clustering. This was broken down into two steps: finding the optimal K value, and then visualizing the clusters themselves\n",
    "\n",
    "1) **Finding the Optimal K**: To find the optimal k-value (i.e. how many clusters there should be), we employed the **Elbow Method**. We tested k-values from 1 to 10 and plotted the result. The \"elbow\" is the value of k where there is a significant decrease in the distortion, and from the information presented in the graph, the **optimal_k = 4**"
   ]
  },
  {
   "cell_type": "code",
   "execution_count": 3,
   "metadata": {
    "scrolled": false
   },
   "outputs": [
    {
     "name": "stderr",
     "output_type": "stream",
     "text": [
      "C:\\Users\\rebec\\anaconda3\\Lib\\site-packages\\sklearn\\cluster\\_kmeans.py:1412: FutureWarning: The default value of `n_init` will change from 10 to 'auto' in 1.4. Set the value of `n_init` explicitly to suppress the warning\n",
      "  super()._check_params_vs_input(X, default_n_init=10)\n",
      "C:\\Users\\rebec\\anaconda3\\Lib\\site-packages\\sklearn\\cluster\\_kmeans.py:1412: FutureWarning: The default value of `n_init` will change from 10 to 'auto' in 1.4. Set the value of `n_init` explicitly to suppress the warning\n",
      "  super()._check_params_vs_input(X, default_n_init=10)\n",
      "C:\\Users\\rebec\\anaconda3\\Lib\\site-packages\\sklearn\\cluster\\_kmeans.py:1412: FutureWarning: The default value of `n_init` will change from 10 to 'auto' in 1.4. Set the value of `n_init` explicitly to suppress the warning\n",
      "  super()._check_params_vs_input(X, default_n_init=10)\n",
      "C:\\Users\\rebec\\anaconda3\\Lib\\site-packages\\sklearn\\cluster\\_kmeans.py:1412: FutureWarning: The default value of `n_init` will change from 10 to 'auto' in 1.4. Set the value of `n_init` explicitly to suppress the warning\n",
      "  super()._check_params_vs_input(X, default_n_init=10)\n",
      "C:\\Users\\rebec\\anaconda3\\Lib\\site-packages\\sklearn\\cluster\\_kmeans.py:1412: FutureWarning: The default value of `n_init` will change from 10 to 'auto' in 1.4. Set the value of `n_init` explicitly to suppress the warning\n",
      "  super()._check_params_vs_input(X, default_n_init=10)\n",
      "C:\\Users\\rebec\\anaconda3\\Lib\\site-packages\\sklearn\\cluster\\_kmeans.py:1412: FutureWarning: The default value of `n_init` will change from 10 to 'auto' in 1.4. Set the value of `n_init` explicitly to suppress the warning\n",
      "  super()._check_params_vs_input(X, default_n_init=10)\n",
      "C:\\Users\\rebec\\anaconda3\\Lib\\site-packages\\sklearn\\cluster\\_kmeans.py:1412: FutureWarning: The default value of `n_init` will change from 10 to 'auto' in 1.4. Set the value of `n_init` explicitly to suppress the warning\n",
      "  super()._check_params_vs_input(X, default_n_init=10)\n",
      "C:\\Users\\rebec\\anaconda3\\Lib\\site-packages\\sklearn\\cluster\\_kmeans.py:1412: FutureWarning: The default value of `n_init` will change from 10 to 'auto' in 1.4. Set the value of `n_init` explicitly to suppress the warning\n",
      "  super()._check_params_vs_input(X, default_n_init=10)\n",
      "C:\\Users\\rebec\\anaconda3\\Lib\\site-packages\\sklearn\\cluster\\_kmeans.py:1412: FutureWarning: The default value of `n_init` will change from 10 to 'auto' in 1.4. Set the value of `n_init` explicitly to suppress the warning\n",
      "  super()._check_params_vs_input(X, default_n_init=10)\n",
      "C:\\Users\\rebec\\anaconda3\\Lib\\site-packages\\sklearn\\cluster\\_kmeans.py:1412: FutureWarning: The default value of `n_init` will change from 10 to 'auto' in 1.4. Set the value of `n_init` explicitly to suppress the warning\n",
      "  super()._check_params_vs_input(X, default_n_init=10)\n"
     ]
    },
    {
     "data": {
      "image/png": "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",
      "text/plain": [
       "<Figure size 1600x800 with 1 Axes>"
      ]
     },
     "metadata": {},
     "output_type": "display_data"
    }
   ],
   "source": [
    "distortions = []\n",
    "K = range(1, 11)  # Assuming we test for k values from 1 to 10\n",
    "for k in K:\n",
    "    kmeanModel = KMeans(n_clusters=k, random_state=0)\n",
    "    kmeanModel.fit(pca_final_features)\n",
    "    distortions.append(kmeanModel.inertia_)\n",
    "\n",
    "#Plot the elbow curve\n",
    "plt.figure(figsize=(16,8))\n",
    "plt.plot(K, distortions, 'bx-')\n",
    "plt.xlabel('k')\n",
    "plt.ylabel('Distortion')\n",
    "plt.title('The Elbow Method showing the optimal k')\n",
    "plt.show()"
   ]
  },
  {
   "cell_type": "markdown",
   "metadata": {},
   "source": [
    "2) **Visualize Clusters**: Now that we have selected the optimal value of k, we can plot the clusters. We included the centroids of the clusters as well to see how spread-out they are. "
   ]
  },
  {
   "cell_type": "code",
   "execution_count": 4,
   "metadata": {},
   "outputs": [
    {
     "name": "stderr",
     "output_type": "stream",
     "text": [
      "C:\\Users\\rebec\\anaconda3\\Lib\\site-packages\\sklearn\\cluster\\_kmeans.py:1412: FutureWarning: The default value of `n_init` will change from 10 to 'auto' in 1.4. Set the value of `n_init` explicitly to suppress the warning\n",
      "  super()._check_params_vs_input(X, default_n_init=10)\n"
     ]
    },
    {
     "data": {
      "image/png": "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",
      "text/plain": [
       "<Figure size 640x480 with 1 Axes>"
      ]
     },
     "metadata": {},
     "output_type": "display_data"
    }
   ],
   "source": [
    "# From graph above:\n",
    "optimal_k = 4\n",
    "\n",
    "# Perform K-means clustering\n",
    "kmeans = KMeans(n_clusters=optimal_k, random_state=0)\n",
    "kmeans.fit(pca_final_features)\n",
    "clusters = kmeans.labels_\n",
    "\n",
    "# Assign clusters to original dataframe\n",
    "df_clustering['cluster'] = clusters\n",
    "\n",
    "import matplotlib.pyplot as plt\n",
    "\n",
    "# Plot each cluster\n",
    "for i in range(optimal_k):\n",
    "    # Select only data observations with cluster label == i\n",
    "    ds = pca_final_features[clusters == i]\n",
    "    # Plot the data observations\n",
    "    plt.scatter(ds[:, 0], ds[:, 1], s=50, label=f'Cluster {i}')\n",
    "\n",
    "# Plot the centroids of the clusters\n",
    "centers = kmeans.cluster_centers_\n",
    "plt.scatter(centers[:, 0], centers[:, 1], c='black', s=200, alpha=0.5, label='Centroids')\n",
    "\n",
    "plt.xlabel('Principal Component 1')\n",
    "plt.ylabel('Principal Component 2')\n",
    "plt.title('Visualization of Clusters with PCA')\n",
    "plt.legend() \n",
    "plt.show()"
   ]
  },
  {
   "cell_type": "markdown",
   "metadata": {},
   "source": [
    "From the graph, we can see that PCA has imrpoved the effectiveness of the K-Means Clustering algorithm."
   ]
  },
  {
   "cell_type": "markdown",
   "metadata": {},
   "source": [
    "### 4) Silhouette Score & Pseudo Rand Index\n",
    "\n",
    "Next, we evaluate the performance of the clustering algorithm through 2 metrics: the silhouette score, and a pseudo rand index. \n",
    "\n",
    "1) **Silhouette Score**: As previously established, the silhouette score measures how spread-apart clusters are. It ranges on a scale from -1 to +1, with higher scores closer to +1 indicating better-defined clusters. The calculation is below. "
   ]
  },
  {
   "cell_type": "code",
   "execution_count": 5,
   "metadata": {},
   "outputs": [
    {
     "name": "stdout",
     "output_type": "stream",
     "text": [
      "The silhouette score for k=4: 0.15\n"
     ]
    }
   ],
   "source": [
    "silhouette_avg = silhouette_score(pca_final_features, clusters)\n",
    "print(f\"The silhouette score for k={optimal_k}: {silhouette_avg:.2f}\")"
   ]
  },
  {
   "cell_type": "markdown",
   "metadata": {},
   "source": [
    "2) **Pseudo Rand Index**: We created a pseudo rand index that goes through the dataset, and for each movie listed, checks how many of the 5 TMDB-recommended movies are in the same cluster. \n",
    "    - A limitation we ran into is that some of the movies that are recommended by TMDB may not be in our current dataset. Thus, rather than dividing the total number of same-cluster movies by 5, we divided it by the number of movies present in the database. \n",
    "\n",
    "A section of the accuracies (as well as the overall accuracy across all movies in the dataset) are below. "
   ]
  },
  {
   "cell_type": "code",
   "execution_count": 6,
   "metadata": {},
   "outputs": [
    {
     "data": {
      "text/plain": [
       "47.21683501683607"
      ]
     },
     "execution_count": 6,
     "metadata": {},
     "output_type": "execute_result"
    }
   ],
   "source": [
    "df_clustering = df_clustering.drop_duplicates()\n",
    "accuracy = []\n",
    "for index, row in df_clustering.iterrows():\n",
    "    try:\n",
    "        #Get recommendation ID from current row\n",
    "        current_cluster = row['cluster']\n",
    "        same_cluster_count = 0\n",
    "        recs_in_df = 1 #Avoid division by 0\n",
    "    \n",
    "        #Go through recommendation columns\n",
    "        for i in range(1,6):\n",
    "            #Get recommendation_{i} ID from current row\n",
    "            rec_id = int(row[f'recommendation_{i}']) #rec_id is str\n",
    "        \n",
    "            #If recommended movie is in df \n",
    "            if rec_id in df_clustering['id'].values:\n",
    "                recs_in_df += 1\n",
    "               \n",
    "                #Look up recommended movie's cluster\n",
    "                rec_movie_cluster_row = df_clustering[df_clustering['id']==rec_id]['cluster']\n",
    "                if rec_movie_cluster_row.empty == True:\n",
    "                    same_cluster_count = 0\n",
    "                else:\n",
    "                    rec_movie_cluster = rec_movie_cluster_row.squeeze()\n",
    "                    #print(rec_movie_cluster)\n",
    "                    if rec_movie_cluster == current_cluster:\n",
    "                        same_cluster_count += 1\n",
    "    \n",
    "        # Calculate the accuracy and append to the list\n",
    "        accuracy.append((same_cluster_count/recs_in_df) * 100)\n",
    "    except ValueError:\n",
    "        accuracy.append(0)\n",
    "        continue\n",
    "\n",
    "# Add the counts as a new column in the DataFrame\n",
    "df_clustering['clustering_accuracy_percent'] = accuracy\n",
    "df_clustering['clustering_accuracy_percent']\n",
    "\n",
    "#Calculate overall accuracy across clusters\n",
    "avg_accuracy = sum(accuracy)/len(accuracy)\n",
    "avg_accuracy"
   ]
  },
  {
   "cell_type": "markdown",
   "metadata": {},
   "source": [
    "### 5) Logistic Regression Recommender\n",
    "\n",
    "For the actual recommender system itself, we used logistic regression. Using euclidean distance between the input movie you want recommendations for, the vote count and average from TMDB users regarding how good the movie is, and the popularity of the movie (also from TMDB users), the model should try and predict the id of the recommended movies. \n",
    "\n",
    "To achieve this, we made two functions: one to create a new dataframe with the euclidean distance between the input movie and all other movies in its cluster, and one with the actual regression to recommend movies. They are listed below"
   ]
  },
  {
   "cell_type": "code",
   "execution_count": null,
   "metadata": {},
   "outputs": [],
   "source": [
    "df_regression = df_clustering.copy()\n",
    "def calculate_euclidean_distance(id, df_regression, clustering_column, feature_columns, df):\n",
    "\n",
    "    # Get all members of the cluster from the clustering algorithm\n",
    "    cluster_id = df_regression.loc[df_regression['id'] == id, clustering_column].values[0]\n",
    "    cluster_data = df_regression[df_regression[clustering_column] == cluster_id]\n",
    "\n",
    "    # Calculate euclidean distance\n",
    "    id_features = df_regression.loc[df['id'] == id, feature_columns].values[0]\n",
    "    cluster_features = cluster_data[feature_columns].values\n",
    "    distances = np.linalg.norm(cluster_features - id_features, axis=1)\n",
    "\n",
    "    # Create a new dataframe with it\n",
    "    result_df = pd.DataFrame({\n",
    "        'id': cluster_data['id'],\n",
    "        'euclidean_distance': distances\n",
    "    })\n",
    "    result_df = pd.merge(result_df, df[['id', 'popularity', 'vote_average', 'vote_count']], on='id', how='left')\n",
    "\n",
    "    return result_df\n",
    "\n",
    "# This is how you put a movie in, we can change it to be a name instead but id seemed easier to not mess up\n",
    "id_to_find = 615656\n",
    "\n",
    "# These are presets, but I'm leaving them as a set (really we should define this higher up)\n",
    "cluster_column = 'cluster'\n",
    "feature_columns = ['revenue', 'release_year', 'is_english', 'runtime', 'Frank Welker', 'Eric Roberts', 'Mark Calaway', 'Mel Blanc', 'Paul Michael Lévesque', 'Bess Flowers', 'Allen Jones', 'Nedumudi Venu', 'KPAC Lalitha', 'Jagathy Sreekumar', 'Warner Bros. Pictures', 'Paramount', 'Metro', 'Goldwyn', 'Mayer', 'Universal Pictures', 'Columbia Pictures', 'Toei Company', 'ARTE', 'ZDF', 'Film', 'ONF | NFB', 'BBC', 'Action', 'Adventure', 'Animation', 'Comedy', 'Crime', 'Documentary', 'Drama', 'Family', 'Fantasy', 'History', 'Horror', 'Music', 'Mystery', 'Romance', 'Science Fiction', 'TV Movie', 'Thriller', 'War', 'Western']\n",
    "result_df = calculate_euclidean_distance(id_to_find, df_regression, cluster_column, feature_columns, df)\n",
    "print(result_df)\n",
    "\n",
    "from sklearn.linear_model import LogisticRegression\n",
    "from sklearn.model_selection import train_test_split\n",
    "from sklearn.metrics import mean_squared_error\n",
    "\n",
    "#Input movie using TMDB ID\n",
    "def recommend_movies(id, euc_dist_df, df_copy):\n",
    "    #Make temporary df with the recommendation columns from the result of euc_dist_df\n",
    "    #euc_dist_df is the result_df output from calculate_euclidean_distance\n",
    "    recommendation_cols_df = pd.merge(euc_dist_df[['id']], df_copy[['id', 'recommendation_1', \n",
    "                                                                 'recommendation_2', 'recommendation_3', \n",
    "                                                                 'recommendation_4', 'recommendation_5']], on='id', how='inner')\n",
    "    working_df = pd.merge(euc_dist_df, recommendation_cols_df, on=\"id\", how=\"left\")\n",
    "        \n",
    "    #Regression to predict recommendations based on distance, etc.\n",
    "    #Split data into training + testing for regression\n",
    "    x = working_df[['euclidean_distance', 'vote_count', 'vote_average', 'popularity']]\n",
    "    y = working_df[['recommendation_1']].values\n",
    "    y_df = pd.DataFrame(y, columns=['recommendation_1'])\n",
    "    x.dropna()\n",
    "    y_df = y_df.dropna().reset_index(drop=True)\n",
    "    common_indices = x.index.intersection(y_df.index)\n",
    "\n",
    "    # Select only the rows that are present in both x and y_df\n",
    "    x_aligned = x.loc[common_indices]\n",
    "    y_aligned = y_df.loc[common_indices]\n",
    "    \n",
    "    x_train, x_test, y_train, y_test = train_test_split(x_aligned, y_aligned, test_size=0.2, random_state=42)\n",
    "        \n",
    "    #Create and train the regression model\n",
    "    regression_model = LogisticRegression()\n",
    "    regression_model.fit(x_train, y_train)\n",
    "        \n",
    "    #Predict recommendations for test set\n",
    "    y_pred = regression_model.predict(x_test)\n",
    "        \n",
    "    #Evaluate model\n",
    "    mse = mean_squared_error(y_test, y_pred)\n",
    "    print(f'Mean Squared Error of the Regression Model: {mse}')\n",
    "        \n",
    "    # Predict recommendation for all movies in the cluster\n",
    "    all_recs = regression_model.predict(x)\n",
    "        \n",
    "    # Sort the movies based on predicted scores\n",
    "    working_df['all_recs'] = all_recs\n",
    "    \n",
    "    return working_df['all_recs'].head()\n",
    "    \n",
    "#Try it out:\n",
    "result_df = result_df.dropna()\n",
    "df_copy = df_copy.dropna()\n",
    "print(recommend_movies(615656, result_df, df_copy))"
   ]
  },
  {
   "cell_type": "markdown",
   "metadata": {},
   "source": [
    "# Discussion"
   ]
  },
  {
   "cell_type": "markdown",
   "metadata": {},
   "source": [
    "### Interpreting the Result (WRITE STUFF)\n",
    "\n",
    "*OK, you've given us quite a bit of tech informaiton above, now its time to tell us what to pay attention to in all that.  Think clearly about your results, decide on one main point and 2-4 secondary points you want us to understand. Highlight HOW your results support those points.  You probably want 2-5 sentences per point.*"
   ]
  },
  {
   "cell_type": "markdown",
   "metadata": {},
   "source": [
    "### Limitations (WRITE STUFF)\n",
    "\n",
    "One of the major limitations we faced in our study was managing the \"recommendations\" column that had the IDs of movies that TMDB recommended. This became apparent when making the pseudo rand index, as some of the movies that were recommended were not in our dataset, either due to being dropped because of NaNs or duplicates, or because it was never there to begin with as the dataset does not encompass all the information in TMDB. \n",
    "\n",
    "Additionally, due to the large number of credits and production companies, we were unable to utilize the full extent of the information provided because it simply would have been too many features. The credits (actors/directors, etc.) and production companies that were chosen were the most prominent in the dataset, but they are not necessarily indictive of their prominence in film in the modern era (for example, Mel Blanc was very famous for voicing cartoon characters in the 1900s, but not the name one would think of when recalling popular movie actors nowadays). Furthermore, the influence of these features were diminished due to our choice to inflate the one-hot encoded values of genre to give *it* more prominence. Essentially, the scope of our results are limited due to not including all the features the dataset offers. \n",
    "\n",
    "Finally, **TALK ABOUT LIMITATIONS WITH THE CLUSTERING/REGRESSION**\n",
    "\n",
    "**FUTURE AREAS TO LOOK INTO**"
   ]
  },
  {
   "cell_type": "markdown",
   "metadata": {},
   "source": [
    "### Ethics & Privacy\n",
    "\n",
    "The movie data taken from TMDB is all publicly available information about the movies that have been subject to TMDB’s terms and conditions, and thus do not have any privacy infringements. Thus, in terms of the dataset, there is no highly sensitive information that is being handled and subsequently no visible ethical concern. However, ethical issues may arise in the form of biases, as the movie data may not include adequate amounts of foreign movies or films made by marginalized communities, and thus would not be completely representative of the industry as a whole since it only selects somewhat mainstream movies. This would limit the scope of our movie recommendation system to mostly movies released in the continental United States. We strive to make as unbiased a model as possible, and thus will be aware of these potential biases (as well as our own implicit biases) when conducting analysis into the data."
   ]
  },
  {
   "cell_type": "markdown",
   "metadata": {},
   "source": [
    "# Conclusion (WRITE STUFF)\n",
    "\n",
    "*Reiterate your main point and in just a few sentences tell us how your results support it. Mention how this work would fit in the background/context of other work in this field if you can. Suggest directions for future work if you want to.*"
   ]
  },
  {
   "cell_type": "markdown",
   "metadata": {},
   "source": [
    "# Footnotes\n",
    "<a name=\"taylornote\"></a>1.[^](#taylor): Taylor, P. (16 Nov 2023) Volume of data/information created, captured, copied, and consumed worldwide from 2010 to 2020, with forecasts from 2021 to 2025. *Statista*. https://www.statista.com/statistics/871513/worldwide-data-created/<br> \n",
    "<a name=\"jayalakshminote\"></a>2.[^](#jayalakshmi): Jayalakshmi, S., Ganesh, N., Čep, R. & Murugan, J. (29 Jun 2022) Movie Recommender Systems: concepts, Methods, Challenges, and Future Directions. *MDPI Open Access*. https://www.mdpi.com/1424-8220/22/13/4904<br> "
   ]
  }
 ],
 "metadata": {
  "kernelspec": {
   "display_name": "Python 3 (ipykernel)",
   "language": "python",
   "name": "python3"
  },
  "language_info": {
   "codemirror_mode": {
    "name": "ipython",
    "version": 3
   },
   "file_extension": ".py",
   "mimetype": "text/x-python",
   "name": "python",
   "nbconvert_exporter": "python",
   "pygments_lexer": "ipython3",
   "version": "3.11.5"
  }
 },
 "nbformat": 4,
 "nbformat_minor": 2
}
