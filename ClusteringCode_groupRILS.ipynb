{
 "cells": [
  {
   "cell_type": "markdown",
   "id": "f690d184",
   "metadata": {},
   "source": [
    "# COGS 118B Final Project (Group RILS): Clustering Code #"
   ]
  },
  {
   "cell_type": "markdown",
   "id": "ef6370a4",
   "metadata": {},
   "source": [
    "## Imports & Helper Functions ##"
   ]
  },
  {
   "cell_type": "code",
   "execution_count": 5,
   "id": "65d4df41",
   "metadata": {},
   "outputs": [],
   "source": [
    "import pandas as pd\n",
    "from sklearn.cluster import KMeans\n",
    "from sklearn.metrics import silhouette_score\n",
    "import matplotlib.pyplot as plt\n",
    "import numpy as np"
   ]
  },
  {
   "cell_type": "markdown",
   "id": "17aba532",
   "metadata": {},
   "source": [
    "## Step 1: Load Preprocessed Data ##"
   ]
  },
  {
   "cell_type": "code",
   "execution_count": null,
   "id": "0d18b2cc",
   "metadata": {},
   "outputs": [],
   "source": [
    "def load_data(filename):\n",
    "    # This function will load the movie data from a CSV file\n",
    "    return pd.read_csv(filename)"
   ]
  },
  {
   "cell_type": "markdown",
   "id": "e821087f",
   "metadata": {},
   "source": [
    "## Step 2: Choosing the Right K ##"
   ]
  },
  {
   "cell_type": "markdown",
   "id": "8cd4707a",
   "metadata": {},
   "source": [
    "- We will use the **Elbow Method** to choose the best K."
   ]
  },
  {
   "cell_type": "code",
   "execution_count": null,
   "id": "0568357b",
   "metadata": {},
   "outputs": [],
   "source": [
    "distortions = []\n",
    "K = range(1, 11)  # Assuming we test for k values from 1 to 10\n",
    "for k in K:\n",
    "    kmeanModel = KMeans(n_clusters=k, random_state=0)\n",
    "    kmeanModel.fit(scaled_features)\n",
    "    distortions.append(kmeanModel.inertia_)\n",
    "\n",
    "#Plot the elmbow curve\n",
    "plt.figure(figsize=(16,8))\n",
    "plt.plot(K, distortions, 'bx-')\n",
    "plt.xlabel('k')\n",
    "plt.ylabel('Distortion')\n",
    "plt.title('The Elbow Method showing the optimal k')\n",
    "plt.show()"
   ]
  },
  {
   "cell_type": "markdown",
   "id": "c19a72fb",
   "metadata": {},
   "source": [
    "- Based on the plot **k = [CHOOSE BEST k]** is the optimal value"
   ]
  },
  {
   "cell_type": "code",
   "execution_count": null,
   "id": "4d5d6c15",
   "metadata": {},
   "outputs": [],
   "source": [
    "optimal_k = [CHOSEN VALUE]"
   ]
  },
  {
   "cell_type": "markdown",
   "id": "82608174",
   "metadata": {},
   "source": [
    "## Step 3: Implement K-Means ##"
   ]
  },
  {
   "cell_type": "markdown",
   "id": "20be3de6",
   "metadata": {},
   "source": [
    "- We will run K-means clustering using sklearn"
   ]
  },
  {
   "cell_type": "code",
   "execution_count": null,
   "id": "d7b91bc6",
   "metadata": {},
   "outputs": [],
   "source": [
    "kmeans = KMeans(n_clusters=optimal_k, random_state=0)\n",
    "kmeans.fit(scaled_features)\n",
    "clusters = kmeans.predict(scaled_features)\n",
    "# Add clusters to your dataset\n",
    "dataset['cluster'] = clusters\n",
    "\n",
    "plt.scatter(scaled_features[:, 0], scaled_features[:, 1], c=clusters, s=50, cmap='viridis')\n",
    "centers = kmeans.cluster_centers_\n",
    "plt.scatter(centers[:, 0], centers[:, 1], c='black', s=200, alpha=0.5)\n",
    "plt.title('Visualization of Clusters')\n",
    "plt.show()"
   ]
  },
  {
   "cell_type": "markdown",
   "id": "ef44767c",
   "metadata": {},
   "source": [
    "## Step 4: Silhouette Score Evaluation ##"
   ]
  },
  {
   "cell_type": "markdown",
   "id": "4cee70c2",
   "metadata": {},
   "source": [
    "- We will calculate the **Silhouette Score** to see how well the clusters are separated.\n",
    "- A higher score indicates a better-defined cluster"
   ]
  },
  {
   "cell_type": "code",
   "execution_count": null,
   "id": "5cbba17f",
   "metadata": {},
   "outputs": [],
   "source": [
    "silhouette_avg = silhouette_score(scaled_features, clusters)\n",
    "print(f\"The silhouette score for k={optimal_k}: {silhouette_avg:.2f}\")"
   ]
  },
  {
   "cell_type": "markdown",
   "id": "0fae6782",
   "metadata": {},
   "source": [
    "- ***HOW DID THE CLUSTERING DO? EXPLAIN BRIEFLY***"
   ]
  },
  {
   "cell_type": "markdown",
   "id": "f62ac209",
   "metadata": {},
   "source": [
    "## Step 5: Recommendation System ##"
   ]
  },
  {
   "cell_type": "markdown",
   "id": "f608d36a",
   "metadata": {},
   "source": [
    "- Now, we will create the recommendation system based off the clusters we've created.\n",
    "- This will be done in 2 steps:\n",
    "    1) User preference profiling\n",
    "    2) Recommending movies based off the user profile"
   ]
  },
  {
   "cell_type": "markdown",
   "id": "1af0c303",
   "metadata": {},
   "source": [
    "### Step 5a: User Preference Profiling ###"
   ]
  },
  {
   "cell_type": "markdown",
   "id": "19e3d762",
   "metadata": {},
   "source": [
    "- We will create a user profile based on the features of movies they like\n",
    "- This will be done by aggregating the cluster labels of movies a user likes"
   ]
  },
  {
   "cell_type": "code",
   "execution_count": null,
   "id": "391c2204",
   "metadata": {},
   "outputs": [],
   "source": [
    "def user_preference_profile(user_likes, movie_clusters):\n",
    "    # user_likes is a list of movie titles the user likes\n",
    "    # movie_clusters is a dictionary mapping movie titles to their cluster labels\n",
    "\n",
    "    # Count the frequency of each cluster in the user's liked movies\n",
    "    cluster_preference = {}\n",
    "    for movie in user_likes:\n",
    "        if movie in movie_clusters:\n",
    "            cluster = movie_clusters[movie]\n",
    "            cluster_preference[cluster] = cluster_preference.get(cluster, 0) + 1\n",
    "\n",
    "    # Sort clusters by preference\n",
    "    sorted_clusters = sorted(cluster_preference, key=cluster_preference.get, reverse=True)\n",
    "    return sorted_clusters\n",
    "\n",
    "# Example usage\n",
    "user_likes = ['Movie Title 1', 'Movie Title 2']  # List of movie titles the user likes\n",
    "user_pref_clusters = user_preference_profile(user_likes, movie_clusters)"
   ]
  },
  {
   "cell_type": "markdown",
   "id": "1199fbf7",
   "metadata": {},
   "source": [
    "### Step 5b: Recommend Movies ###"
   ]
  },
  {
   "cell_type": "markdown",
   "id": "03ce0a0b",
   "metadata": {},
   "source": [
    "- Some recommendations we can have are: recommendations (collaborative filtering), genres (content based filtering), and credits."
   ]
  },
  {
   "cell_type": "code",
   "execution_count": null,
   "id": "8f2dad35",
   "metadata": {},
   "outputs": [],
   "source": [
    "def recommend_movies(preferred_clusters, movies, n_recommendations):\n",
    "    recommendations = []\n",
    "\n",
    "    for cluster in preferred_clusters:\n",
    "        # Filter movies from the preferred cluster\n",
    "        cluster_movies = movies[movies['cluster'] == cluster]\n",
    "\n",
    "        # Exclude movies the user has already seen (user_likes)\n",
    "        unseen_movies = cluster_movies[~cluster_movies['title'].isin(user_likes)]\n",
    "\n",
    "        # Add recommendations\n",
    "        recommendations.extend(unseen_movies.sample(min(n_recommendations, len(unseen_movies))))\n",
    "\n",
    "        # If we have enough recommendations, stop\n",
    "        if len(recommendations) >= n_recommendations:\n",
    "            break\n",
    "\n",
    "    return recommendations[:n_recommendations]"
   ]
  },
  {
   "cell_type": "markdown",
   "id": "9e3daa7b",
   "metadata": {},
   "source": [
    "## Step 6: Testing ##"
   ]
  },
  {
   "cell_type": "markdown",
   "id": "2c9e8cec",
   "metadata": {},
   "source": [
    "- We will now test the performance of the recommendation system"
   ]
  },
  {
   "cell_type": "code",
   "execution_count": null,
   "id": "c82244f8",
   "metadata": {},
   "outputs": [],
   "source": [
    "# Example usage\n",
    "recommended = recommend_movies(user_pref_clusters, movies_df, 5)\n",
    "print(recommended)"
   ]
  }
 ],
 "metadata": {
  "kernelspec": {
   "display_name": "Python 3 (ipykernel)",
   "language": "python",
   "name": "python3"
  },
  "language_info": {
   "codemirror_mode": {
    "name": "ipython",
    "version": 3
   },
   "file_extension": ".py",
   "mimetype": "text/x-python",
   "name": "python",
   "nbconvert_exporter": "python",
   "pygments_lexer": "ipython3",
   "version": "3.11.5"
  }
 },
 "nbformat": 4,
 "nbformat_minor": 5
}
